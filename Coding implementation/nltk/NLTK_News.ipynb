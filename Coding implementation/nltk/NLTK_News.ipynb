{
    "cells": [
        {
            "attachments": {},
            "cell_type": "markdown",
            "metadata": {},
            "source": [
                "<font style='font-size:1.5em'>**NLTK Portion of the Project for News**</font>\n",
                "\n",
                "**Author: Sentipedia**  \n",
                "\n",
                "**Course: DS105L Project** \n",
                "\n",
                "---\n"
            ]
        },
        {
            "attachments": {},
            "cell_type": "markdown",
            "metadata": {},
            "source": [
                "## Import"
            ]
        },
        {
            "attachments": {},
            "cell_type": "markdown",
            "metadata": {},
            "source": [
                "### Importing Libraries "
            ]
        },
        {
            "cell_type": "code",
            "execution_count": 1,
            "metadata": {},
            "outputs": [
                {
                    "name": "stderr",
                    "output_type": "stream",
                    "text": [
                        "[nltk_data] Downloading package punkt to /Users/ap/nltk_data...\n",
                        "[nltk_data]   Package punkt is already up-to-date!\n",
                        "[nltk_data] Downloading package averaged_perceptron_tagger to\n",
                        "[nltk_data]     /Users/ap/nltk_data...\n",
                        "[nltk_data]   Package averaged_perceptron_tagger is already up-to-\n",
                        "[nltk_data]       date!\n",
                        "[nltk_data] Downloading package vader_lexicon to\n",
                        "[nltk_data]     /Users/ap/nltk_data...\n",
                        "[nltk_data]   Package vader_lexicon is already up-to-date!\n",
                        "[nltk_data] Downloading package stopwords to /Users/ap/nltk_data...\n",
                        "[nltk_data]   Package stopwords is already up-to-date!\n",
                        "[nltk_data] Downloading package punkt to /Users/ap/nltk_data...\n",
                        "[nltk_data]   Package punkt is already up-to-date!\n",
                        "[nltk_data] Downloading package wordnet to /Users/ap/nltk_data...\n",
                        "[nltk_data]   Package wordnet is already up-to-date!\n",
                        "[nltk_data] Downloading package maxent_ne_chunker to\n",
                        "[nltk_data]     /Users/ap/nltk_data...\n",
                        "[nltk_data]   Package maxent_ne_chunker is already up-to-date!\n",
                        "[nltk_data] Downloading package words to /Users/ap/nltk_data...\n",
                        "[nltk_data]   Package words is already up-to-date!\n"
                    ]
                }
            ],
            "source": [
                "# importing libraries for web scrapping and API acess\n",
                "import requests\n",
                "from bs4 import BeautifulSoup\n",
                "\n",
                "# importing libraries for dataframes \n",
                "import pandas as pd\n",
                "import numpy as np\n",
                "\n",
                "# importing libraries for plots \n",
                "from plotnine import *\n",
                "\n",
                "# importing libraries for ploting networks\n",
                "import networkx as nx\n",
                "import matplotlib.pyplot as plt\n",
                "\n",
                "# import language model \n",
                "import nltk\n",
                "from nltk.sentiment.vader import SentimentIntensityAnalyzer\n",
                "from nltk.corpus import stopwords\n",
                "from nltk.tokenize import word_tokenize\n",
                "from nltk.stem import WordNetLemmatizer\n",
                "from nltk import pos_tag, ne_chunk\n",
                "\n",
                "# downloading NLTK analyzers \n",
                "nltk.download('punkt')\n",
                "nltk.download('averaged_perceptron_tagger')\n",
                "nltk.download('vader_lexicon')\n",
                "nltk.download('stopwords')\n",
                "nltk.download('punkt')\n",
                "nltk.download('wordnet')\n",
                "nltk.download('maxent_ne_chunker')\n",
                "nltk.download('words')\n",
                "\n",
                "# import libraries for plotnine\n",
                "from plotnine import *\n",
                "\n",
                "# import ggthemes\n",
                "from plotnine.themes import theme_bw\n",
                "import matplotlib.font_manager as fm"
            ]
        },
        {
            "attachments": {},
            "cell_type": "markdown",
            "metadata": {},
            "source": [
                "# Data"
            ]
        },
        {
            "attachments": {},
            "cell_type": "markdown",
            "metadata": {},
            "source": [
                "### Cleaing the Data"
            ]
        },
        {
            "cell_type": "code",
            "execution_count": 2,
            "metadata": {},
            "outputs": [
                {
                    "name": "stderr",
                    "output_type": "stream",
                    "text": [
                        "/var/folders/rq/hq1qw43s0zn29y7r6jj2h7h40000gn/T/ipykernel_36461/3930184258.py:2: FutureWarning: The error_bad_lines argument has been deprecated and will be removed in a future version. Use on_bad_lines in the future.\n",
                        "\n",
                        "\n"
                    ]
                }
            ],
            "source": [
                "# dataframe with all news article on Brexit found in Reddit (data already cleaned)\n",
                "df_news = pd.read_csv('news_full.csv', usecols = ['date_utc', 'title'], error_bad_lines=False, sep=';')"
            ]
        },
        {
            "attachments": {},
            "cell_type": "markdown",
            "metadata": {},
            "source": [
                "# Initializing NLTK Tools"
            ]
        },
        {
            "cell_type": "code",
            "execution_count": 3,
            "metadata": {},
            "outputs": [],
            "source": [
                "# define lemmatizer, stop words and analyzer for nltk\n",
                "lemmatizer = WordNetLemmatizer()\n",
                "stop_words = set(stopwords.words('english'))\n",
                "analyzer = SentimentIntensityAnalyzer()"
            ]
        },
        {
            "attachments": {},
            "cell_type": "markdown",
            "metadata": {},
            "source": [
                "# Basic Sentiment Analysis Using Vader"
            ]
        },
        {
            "attachments": {},
            "cell_type": "markdown",
            "metadata": {},
            "source": [
                "### Vader with All Comments"
            ]
        },
        {
            "cell_type": "code",
            "execution_count": 4,
            "metadata": {},
            "outputs": [],
            "source": [
                "# looking at sentiment scores for the full dataset\n",
                "df_news_nltk = df_news.copy()\n",
                "\n",
                "# define function to preprocess text\n",
                "def text_preprocess(comment):\n",
                "    try:\n",
                "        # tokenize comments and preprocess text for sentiment analysis\n",
                "        preprocessed_tokens = [word.lower() for word in word_tokenize(comment)]        \n",
                "        preprocessed_tokens = [word for word in preprocessed_tokens if word not in stop_words]        \n",
                "        preprocessed_tokens = [lemmatizer.lemmatize(word) for word in preprocessed_tokens]        \n",
                "        preprocessed_tokens = [word for word in preprocessed_tokens if (len(word) > 1) and (word.isalpha()) and (word.isalnum())]\n",
                "        return preprocessed_tokens\n",
                "    except:\n",
                "        return None\n",
                "\n",
                "# define function to get sentiment scores\n",
                "def get_score_nltk(tokens):\n",
                "    try:\n",
                "        # use sentiment analyzer from NLTK to get sentiment scores\n",
                "        preprocessed_text = ' '.join(tokens)\n",
                "        sentiment_scores = analyzer.polarity_scores(preprocessed_text)\n",
                "        return sentiment_scores['compound']\n",
                "    except:\n",
                "        return None"
            ]
        },
        {
            "cell_type": "code",
            "execution_count": 5,
            "metadata": {},
            "outputs": [
                {
                    "data": {
                        "text/html": [
                            "<div>\n",
                            "<style scoped>\n",
                            "    .dataframe tbody tr th:only-of-type {\n",
                            "        vertical-align: middle;\n",
                            "    }\n",
                            "\n",
                            "    .dataframe tbody tr th {\n",
                            "        vertical-align: top;\n",
                            "    }\n",
                            "\n",
                            "    .dataframe thead th {\n",
                            "        text-align: right;\n",
                            "    }\n",
                            "</style>\n",
                            "<table border=\"1\" class=\"dataframe\">\n",
                            "  <thead>\n",
                            "    <tr style=\"text-align: right;\">\n",
                            "      <th></th>\n",
                            "      <th>date_utc</th>\n",
                            "      <th>title</th>\n",
                            "      <th>tokens</th>\n",
                            "      <th>score</th>\n",
                            "    </tr>\n",
                            "  </thead>\n",
                            "  <tbody>\n",
                            "    <tr>\n",
                            "      <th>0</th>\n",
                            "      <td>2020-12-26</td>\n",
                            "      <td>It\u0019s time to leave the word \u0018Brexit\u0019 behind an...</td>\n",
                            "      <td>[time, leave, word, behind, hold, government, ...</td>\n",
                            "      <td>-0.0516</td>\n",
                            "    </tr>\n",
                            "    <tr>\n",
                            "      <th>1</th>\n",
                            "      <td>2018-06-11</td>\n",
                            "      <td>70% of young Scots believe Brexit vote was a '...</td>\n",
                            "      <td>[young, scot, believe, brexit, vote, result]</td>\n",
                            "      <td>0.0000</td>\n",
                            "    </tr>\n",
                            "    <tr>\n",
                            "      <th>2</th>\n",
                            "      <td>2019-04-14</td>\n",
                            "      <td>Judge orders Ukip to reveal Brexit referendum ...</td>\n",
                            "      <td>[judge, order, ukip, reveal, brexit, referendu...</td>\n",
                            "      <td>0.0000</td>\n",
                            "    </tr>\n",
                            "    <tr>\n",
                            "      <th>3</th>\n",
                            "      <td>2019-10-20</td>\n",
                            "      <td>New Post-Brexit TV Show - \"A Place in the Shit...</td>\n",
                            "      <td>[new, tv, show, place, shit, daytime, show, su...</td>\n",
                            "      <td>-0.6249</td>\n",
                            "    </tr>\n",
                            "    <tr>\n",
                            "      <th>4</th>\n",
                            "      <td>2019-05-22</td>\n",
                            "      <td>Nigel Farage 'stuck on Brexit bus due to peopl...</td>\n",
                            "      <td>[nigel, farage, brexit, bus, due, people, arme...</td>\n",
                            "      <td>0.0000</td>\n",
                            "    </tr>\n",
                            "    <tr>\n",
                            "      <th>...</th>\n",
                            "      <td>...</td>\n",
                            "      <td>...</td>\n",
                            "      <td>...</td>\n",
                            "      <td>...</td>\n",
                            "    </tr>\n",
                            "    <tr>\n",
                            "      <th>150</th>\n",
                            "      <td>2019-11-15</td>\n",
                            "      <td>UK prime minister withholding report on Russia...</td>\n",
                            "      <td>[uk, prime, minister, withholding, report, rus...</td>\n",
                            "      <td>0.0000</td>\n",
                            "    </tr>\n",
                            "    <tr>\n",
                            "      <th>151</th>\n",
                            "      <td>2018-09-20</td>\n",
                            "      <td>Emmanuel Macron calls Brexit campaign leaders ...</td>\n",
                            "      <td>[emmanuel, macron, call, brexit, campaign, lea...</td>\n",
                            "      <td>-0.4767</td>\n",
                            "    </tr>\n",
                            "    <tr>\n",
                            "      <th>152</th>\n",
                            "      <td>2020-10-11</td>\n",
                            "      <td>Brexit: Anger as ministers use obscure rule to...</td>\n",
                            "      <td>[brexit, anger, minister, use, obscure, rule, ...</td>\n",
                            "      <td>-0.8271</td>\n",
                            "    </tr>\n",
                            "    <tr>\n",
                            "      <th>153</th>\n",
                            "      <td>2018-05-31</td>\n",
                            "      <td>Anger among Brits in France after Brexit champ...</td>\n",
                            "      <td>[anger, among, brit, france, brexit, champion,...</td>\n",
                            "      <td>-0.6808</td>\n",
                            "    </tr>\n",
                            "    <tr>\n",
                            "      <th>154</th>\n",
                            "      <td>2018-07-19</td>\n",
                            "      <td>Why is Britain turning blind eye to Leave side...</td>\n",
                            "      <td>[britain, turning, blind, eye, leave, lawbreak...</td>\n",
                            "      <td>-0.8316</td>\n",
                            "    </tr>\n",
                            "  </tbody>\n",
                            "</table>\n",
                            "<p>155 rows × 4 columns</p>\n",
                            "</div>"
                        ],
                        "text/plain": [
                            "       date_utc                                              title  \\\n",
                            "0    2020-12-26  It\u0019s time to leave the word \u0018Brexit\u0019 behind an...   \n",
                            "1    2018-06-11  70% of young Scots believe Brexit vote was a '...   \n",
                            "2    2019-04-14  Judge orders Ukip to reveal Brexit referendum ...   \n",
                            "3    2019-10-20  New Post-Brexit TV Show - \"A Place in the Shit...   \n",
                            "4    2019-05-22  Nigel Farage 'stuck on Brexit bus due to peopl...   \n",
                            "..          ...                                                ...   \n",
                            "150  2019-11-15  UK prime minister withholding report on Russia...   \n",
                            "151  2018-09-20  Emmanuel Macron calls Brexit campaign leaders ...   \n",
                            "152  2020-10-11  Brexit: Anger as ministers use obscure rule to...   \n",
                            "153  2018-05-31  Anger among Brits in France after Brexit champ...   \n",
                            "154  2018-07-19  Why is Britain turning blind eye to Leave side...   \n",
                            "\n",
                            "                                                tokens   score  \n",
                            "0    [time, leave, word, behind, hold, government, ... -0.0516  \n",
                            "1         [young, scot, believe, brexit, vote, result]  0.0000  \n",
                            "2    [judge, order, ukip, reveal, brexit, referendu...  0.0000  \n",
                            "3    [new, tv, show, place, shit, daytime, show, su... -0.6249  \n",
                            "4    [nigel, farage, brexit, bus, due, people, arme...  0.0000  \n",
                            "..                                                 ...     ...  \n",
                            "150  [uk, prime, minister, withholding, report, rus...  0.0000  \n",
                            "151  [emmanuel, macron, call, brexit, campaign, lea... -0.4767  \n",
                            "152  [brexit, anger, minister, use, obscure, rule, ... -0.8271  \n",
                            "153  [anger, among, brit, france, brexit, champion,... -0.6808  \n",
                            "154  [britain, turning, blind, eye, leave, lawbreak... -0.8316  \n",
                            "\n",
                            "[155 rows x 4 columns]"
                        ]
                    },
                    "execution_count": 5,
                    "metadata": {},
                    "output_type": "execute_result"
                }
            ],
            "source": [
                "# apply functions to get sentiment scores\n",
                "df_news['tokens'] = df_news['title'].apply(text_preprocess)\n",
                "df_news['score'] = df_news['tokens'].apply(get_score_nltk)\n",
                "df_news"
            ]
        },
        {
            "attachments": {},
            "cell_type": "markdown",
            "metadata": {},
            "source": [
                "# Sentiment Over Time "
            ]
        },
        {
            "attachments": {},
            "cell_type": "markdown",
            "metadata": {},
            "source": [
                "### Sentiment Over Time for All Comments"
            ]
        },
        {
            "cell_type": "code",
            "execution_count": 19,
            "metadata": {},
            "outputs": [
                {
                    "data": {
                        "image/png": "[encoded data removed]",
                        "text/plain": [
                            "<Figure size 800x400 with 1 Axes>"
                        ]
                    },
                    "metadata": {},
                    "output_type": "display_data"
                },
                {
                    "data": {
                        "text/plain": [
                            "<ggplot: (8789175841991)>"
                        ]
                    },
                    "execution_count": 19,
                    "metadata": {},
                    "output_type": "execute_result"
                }
            ],
            "source": [
                "df_news['date_utc'] = pd.to_datetime(df_news['date_utc'])\n",
                "df_news['year'] = df_news['date_utc'].dt.to_period('Y')\n",
                "df_avg = df_news.groupby('year')['score'].mean().reset_index()\n",
                "\n",
                "plot = (\n",
                "    ggplot(df_avg, aes(x='year', y='score', group = 1)) +\n",
                "    geom_line(color = '#d62728', size = 1.5) +\n",
                "    xlab('') +\n",
                "    ylab('Sentiment Score') +\n",
                "    ggtitle('Sentiment Over Time (All Comments Aggregated For Each Year)') + \n",
                "    theme_538(base_family = 'Mono') +\n",
                "    theme(figure_size=(8, 4)) +\n",
                "    theme(text=element_text(family='Times New Roman'))\n",
                "\n",
                ")\n",
                "\n",
                "plot\n"
            ]
        },
        {
            "attachments": {},
            "cell_type": "markdown",
            "metadata": {},
            "source": [
                "# Extracting Themes from Comments with Positive/Negative Sentiment"
            ]
        },
        {
            "attachments": {},
            "cell_type": "markdown",
            "metadata": {},
            "source": [
                "### Positive/Negative Sentiment for All Comments"
            ]
        },
        {
            "cell_type": "code",
            "execution_count": 10,
            "metadata": {},
            "outputs": [],
            "source": [
                "# define function to get all nouns from tokens \n",
                "def get_nouns(tokens):\n",
                "    try:\n",
                "        nouns = [word for (word, pos) in pos_tag(tokens) if (pos and pos.startswith('N'))]\n",
                "        return nouns\n",
                "    except:\n",
                "        return None"
            ]
        },
        {
            "cell_type": "code",
            "execution_count": 11,
            "metadata": {},
            "outputs": [],
            "source": [
                "# apply functions to get nouns, adjectives and verbs tokens\n",
                "df_news['nouns'] = df_news['tokens'].apply(get_nouns)"
            ]
        },
        {
            "cell_type": "code",
            "execution_count": 21,
            "metadata": {},
            "outputs": [
                {
                    "data": {
                        "image/png": "[encoded data removed]",
                        "text/plain": [
                            "<Figure size 1500x400 with 1 Axes>"
                        ]
                    },
                    "metadata": {},
                    "output_type": "display_data"
                },
                {
                    "data": {
                        "text/plain": [
                            "<ggplot: (8789193240685)>"
                        ]
                    },
                    "execution_count": 21,
                    "metadata": {},
                    "output_type": "execute_result"
                }
            ],
            "source": [
                "# identify nouns of negative comments\n",
                "negative_full_nouns = []\n",
                "negative_full_nouns_series = df_news.loc[df_news['score'] < 0, 'nouns']\n",
                "\n",
                "for value in negative_full_nouns_series: \n",
                "    for word in value:\n",
                "        negative_full_nouns.append(word)\n",
                "\n",
                "temp = pd.DataFrame({'theme': negative_full_nouns})\n",
                "frequency = temp['theme'].value_counts().reset_index()\n",
                "frequency.columns = ['theme', 'count']\n",
                "top_15 = frequency.head(15)\n",
                "\n",
                "# plot top 15 nouns for negative comments\n",
                "plot = (\n",
                "    ggplot(data=top_15) +\n",
                "    aes(x='reorder(theme, -count)', y='count') +\n",
                "    geom_bar(stat='identity', fill = '#d62728') +\n",
                "    xlab('') +\n",
                "    ylab('Frequency') +\n",
                "    ggtitle('Top 15 Nouns for All Negative Comments') + \n",
                "    theme_538(base_family = 'Mono') +\n",
                "    theme(figure_size=(15, 4)) +\n",
                "    theme(text=element_text(family='Times New Roman'))\n",
                ")\n",
                "\n",
                "plot\n"
            ]
        },
        {
            "cell_type": "code",
            "execution_count": 22,
            "metadata": {},
            "outputs": [
                {
                    "data": {
                        "image/png": "[encoded data removed]",
                        "text/plain": [
                            "<Figure size 1500x500 with 1 Axes>"
                        ]
                    },
                    "metadata": {},
                    "output_type": "display_data"
                },
                {
                    "data": {
                        "text/plain": [
                            "<ggplot: (8789175840958)>"
                        ]
                    },
                    "execution_count": 22,
                    "metadata": {},
                    "output_type": "execute_result"
                }
            ],
            "source": [
                "# identify nouns of positive comments\n",
                "positive_full_nouns = []\n",
                "positive_full_nouns_series = df_news.loc[df_news['score'] > 0, 'nouns']\n",
                "\n",
                "for value in positive_full_nouns_series:\n",
                "    for word in value:\n",
                "        positive_full_nouns.append(word)\n",
                "\n",
                "temp = pd.DataFrame({'theme': positive_full_nouns})\n",
                "frequency = temp['theme'].value_counts().reset_index()\n",
                "frequency.columns = ['theme', 'count']\n",
                "top_15 = frequency.head(15)\n",
                "\n",
                "# plot top 15 nouns for negative comments\n",
                "plot = (\n",
                "    ggplot(data=top_15) +\n",
                "    aes(x='reorder(theme, -count)', y='count') +\n",
                "    geom_bar(stat='identity', fill = '#1f77b4') +\n",
                "    xlab('') +\n",
                "    ylab('Frequency') +\n",
                "    ggtitle('Top 15 Nouns for All Positive Comments') + \n",
                "    theme_538(base_family = 'Mono') +\n",
                "    theme(figure_size=(15, 5)) +\n",
                "    theme(text=element_text(family='Times New Roman'))\n",
                ")\n",
                "\n",
                "plot"
            ]
        }
    ],
    "metadata": {
        "kernelspec": {
            "display_name": "base",
            "language": "python",
            "name": "python3"
        },
        "language_info": {
            "codemirror_mode": {
                "name": "ipython",
                "version": 3
            },
            "file_extension": ".py",
            "mimetype": "text/x-python",
            "name": "python",
            "nbconvert_exporter": "python",
            "pygments_lexer": "ipython3",
            "version": "3.9.13"
        },
        "orig_nbformat": 4
    },
    "nbformat": 4,
    "nbformat_minor": 2
}
