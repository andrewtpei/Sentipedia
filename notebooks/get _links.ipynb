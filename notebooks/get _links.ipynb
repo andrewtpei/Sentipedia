{
 "cells": [
  {
   "attachments": {},
   "cell_type": "markdown",
   "metadata": {},
   "source": [
    "<font style='font-size:1.5em'>**Data Gathering Portion of the Project**</font>\n",
    "\n",
    "**Author: Sentipedia**  \n",
    "\n",
    "**Course: DS105L Project** \n",
    "\n",
    "---"
   ]
  },
  {
   "attachments": {},
   "cell_type": "markdown",
   "metadata": {},
   "source": [
    "# Import"
   ]
  },
  {
   "attachments": {},
   "cell_type": "markdown",
   "metadata": {},
   "source": [
    "### Importing Libraries"
   ]
  },
  {
   "cell_type": "code",
   "execution_count": 2,
   "metadata": {},
   "outputs": [],
   "source": [
    "# import necessary libraries for web scraping\n",
    "import pandas as pd\n",
    "import numpy as np\n",
    "import pandas as pd\n",
    "from selenium import webdriver\n",
    "from bs4 import BeautifulSoup"
   ]
  },
  {
   "attachments": {},
   "cell_type": "markdown",
   "metadata": {},
   "source": [
    "# Data"
   ]
  },
  {
   "attachments": {},
   "cell_type": "markdown",
   "metadata": {},
   "source": [
    "### Data Cleaning"
   ]
  },
  {
   "cell_type": "code",
   "execution_count": 3,
   "metadata": {},
   "outputs": [],
   "source": [
    "df= pd.read_csv('reddit_full.csv', usecols=['url', 'date'])\n",
    "df.drop_duplicates(subset=['url'], inplace=True)"
   ]
  },
  {
   "attachments": {},
   "cell_type": "markdown",
   "metadata": {},
   "source": [
    "### Getting News Links"
   ]
  },
  {
   "cell_type": "code",
   "execution_count": 7,
   "metadata": {},
   "outputs": [],
   "source": [
    "options = webdriver.ChromeOptions()\n",
    "options.add_argument('--headless') \n",
    "driver = webdriver.Chrome(options=options)\n",
    "\n",
    "def get_news_link(link):\n",
    "    try:     \n",
    "        driver.get(link)\n",
    "        soup = BeautifulSoup(driver.page_source, \"html.parser\")\n",
    "        news_link = \"\"\n",
    "        for a in soup.find_all(\"a\", href=True, class_=\"_13svhQIUZqD9PVzFcLwOKT styled-outbound-link\"):\n",
    "            if \"http\" in a[\"href\"] and \"https\" in a[\"href\"]:\n",
    "                news_link = a[\"href\"]\n",
    "        return news_link\n",
    "    except:\n",
    "        return \"NA\""
   ]
  },
  {
   "cell_type": "code",
   "execution_count": 8,
   "metadata": {},
   "outputs": [
    {
     "name": "stderr",
     "output_type": "stream",
     "text": [
      "/var/folders/rq/hq1qw43s0zn29y7r6jj2h7h40000gn/T/ipykernel_31373/470691323.py:2: SettingWithCopyWarning: \n",
      "A value is trying to be set on a copy of a slice from a DataFrame.\n",
      "Try using .loc[row_indexer,col_indexer] = value instead\n",
      "\n",
      "See the caveats in the documentation: https://pandas.pydata.org/pandas-docs/stable/user_guide/indexing.html#returning-a-view-versus-a-copy\n",
      "  df_head['news_link'] = df_head['url'].apply(get_news_link)\n"
     ]
    }
   ],
   "source": [
    "df_head = df.head(10)\n",
    "df_head['news_link'] = df_head['url'].apply(get_news_link)"
   ]
  },
  {
   "cell_type": "code",
   "execution_count": 12,
   "metadata": {},
   "outputs": [
    {
     "data": {
      "text/plain": [
       "0       \n",
       "322     \n",
       "763     \n",
       "1225    \n",
       "1642    \n",
       "1725    \n",
       "2007    \n",
       "2254    \n",
       "2709    \n",
       "3132    \n",
       "Name: news_link, dtype: object"
      ]
     },
     "execution_count": 12,
     "metadata": {},
     "output_type": "execute_result"
    }
   ],
   "source": [
    "df_head['news_link']"
   ]
  },
  {
   "cell_type": "code",
   "execution_count": 20,
   "metadata": {},
   "outputs": [],
   "source": [
    "df['news_link'] = df['url'].apply(get_news_link)\n",
    "driver.quit()\n",
    "df"
   ]
  },
  {
   "cell_type": "code",
   "execution_count": null,
   "metadata": {},
   "outputs": [],
   "source": [
    "driver = webdriver.Chrome()\n",
    "\n",
    "def get_news_link(link):\n",
    "    try:\n",
    "        driver.get(link)\n",
    "        soup = BeautifulSoup(driver.page_source, \"html.parser\")\n",
    "        news_link = \"\"\n",
    "        for a in soup.find_all(\"a\", href=True, class_=\"_13svhQIUZqD9PVzFcLwOKT styled-outbound-link\"):\n",
    "            if \"http\" in a[\"href\"] and \"https\" in a[\"href\"]:\n",
    "                news_link = a[\"href\"]\n",
    "                break\n",
    "        return news_link\n",
    "    except:\n",
    "        return \"NA\""
   ]
  }
 ],
 "metadata": {
  "kernelspec": {
   "display_name": "base",
   "language": "python",
   "name": "python3"
  },
  "language_info": {
   "codemirror_mode": {
    "name": "ipython",
    "version": 3
   },
   "file_extension": ".py",
   "mimetype": "text/x-python",
   "name": "python",
   "nbconvert_exporter": "python",
   "pygments_lexer": "ipython3",
   "version": "3.9.13"
  },
  "orig_nbformat": 4,
  "vscode": {
   "interpreter": {
    "hash": "8e7e5cd003d159512e4fd258726de60c6a2f32c122a6ff79e7c4b1762ec233ac"
   }
  }
 },
 "nbformat": 4,
 "nbformat_minor": 2
}
