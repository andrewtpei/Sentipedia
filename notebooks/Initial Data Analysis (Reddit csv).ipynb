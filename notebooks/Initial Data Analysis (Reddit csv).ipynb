{
    "cells": [
        {
            "attachments": {},
            "cell_type": "markdown",
            "metadata": {},
            "source": [
                "<font style='font-size:1.5em'>**Initial Data Analysis**</font>\n",
                "\n",
                "<font style='font-size:1.2em'>Using Reddit CSV</font>\n",
                "\n",
                "**Author: Sentipedia**  \n",
                "\n",
                "**Course: DS105L Project** \n",
                "\n",
                "**DATE: 3/29/2023** \n",
                "\n",
                "---\n"
            ]
        },
        {
            "attachments": {},
            "cell_type": "markdown",
            "metadata": {},
            "source": [
                "## Imports "
            ]
        },
        {
            "attachments": {},
            "cell_type": "markdown",
            "metadata": {},
            "source": [
                "### Importing Libraries "
            ]
        },
        {
            "cell_type": "code",
            "execution_count": 1,
            "metadata": {},
            "outputs": [],
            "source": [
                "# importing libraries for web scrapping and API acess\n",
                "import requests\n",
                "from bs4 import BeautifulSoup\n",
                "\n",
                "# importing libraries for dataframes \n",
                "import pandas as pd\n",
                "import numpy as np\n",
                "\n",
                "# importing libraries for plots \n",
                "from plotnine import *\n",
                "\n",
                "# importing libraries for ploting networks\n",
                "import networkx as nx\n",
                "import matplotlib.pyplot as plt"
            ]
        },
        {
            "attachments": {},
            "cell_type": "markdown",
            "metadata": {},
            "source": [
                "# Data"
            ]
        },
        {
            "attachments": {},
            "cell_type": "markdown",
            "metadata": {},
            "source": [
                "### Looking at the Data "
            ]
        },
        {
            "cell_type": "code",
            "execution_count": 2,
            "metadata": {},
            "outputs": [
                {
                    "name": "stderr",
                    "output_type": "stream",
                    "text": [
                        "[nltk_data] Downloading package punkt to /Users/ap/nltk_data...\n",
                        "[nltk_data]   Package punkt is already up-to-date!\n",
                        "[nltk_data] Downloading package averaged_perceptron_tagger to\n",
                        "[nltk_data]     /Users/ap/nltk_data...\n",
                        "[nltk_data]   Package averaged_perceptron_tagger is already up-to-\n",
                        "[nltk_data]       date!\n",
                        "[nltk_data] Downloading package vader_lexicon to\n",
                        "[nltk_data]     /Users/ap/nltk_data...\n",
                        "[nltk_data]   Package vader_lexicon is already up-to-date!\n"
                    ]
                }
            ],
            "source": [
                "# import language model \n",
                "import nltk\n",
                "from nltk.sentiment.vader import SentimentIntensityAnalyzer\n",
                "\n",
                "# downloading NLTK analyzers \n",
                "nltk.download('punkt')\n",
                "nltk.download('averaged_perceptron_tagger')\n",
                "nltk.download('vader_lexicon')\n",
                "\n",
                "pd.set_option('display.max_colwidth', None)"
            ]
        },
        {
            "cell_type": "code",
            "execution_count": 3,
            "metadata": {},
            "outputs": [
                {
                    "data": {
                        "text/html": [
                            "<div>\n",
                            "<style scoped>\n",
                            "    .dataframe tbody tr th:only-of-type {\n",
                            "        vertical-align: middle;\n",
                            "    }\n",
                            "\n",
                            "    .dataframe tbody tr th {\n",
                            "        vertical-align: top;\n",
                            "    }\n",
                            "\n",
                            "    .dataframe thead th {\n",
                            "        text-align: right;\n",
                            "    }\n",
                            "</style>\n",
                            "<table border=\"1\" class=\"dataframe\">\n",
                            "  <thead>\n",
                            "    <tr style=\"text-align: right;\">\n",
                            "      <th></th>\n",
                            "      <th>comment</th>\n",
                            "      <th>comment_id</th>\n",
                            "    </tr>\n",
                            "  </thead>\n",
                            "  <tbody>\n",
                            "    <tr>\n",
                            "      <th>0</th>\n",
                            "      <td>Agree.  With the Tories pushing Brexit, they have become a resting place for racists as well as right wing anti socialism.</td>\n",
                            "      <td>1_2_1_4_1</td>\n",
                            "    </tr>\n",
                            "    <tr>\n",
                            "      <th>1</th>\n",
                            "      <td>I just thought that with plenty of vaccinations coming in and a Brexit deal finally secured we\u0019d be more hopeful and optimistic, but nah.</td>\n",
                            "      <td>1_8_1_1</td>\n",
                            "    </tr>\n",
                            "    <tr>\n",
                            "      <th>2</th>\n",
                            "      <td>If you don't listen to your core voter base, they won't vote for you. That's what labour did in the last election. You can believe it what ever you want, but if you think the people who voted for Brexit and Tories are the ones detached from reality and not the leftists who can't make progressive policies that anyone wants to vote for then I don't know what to tell ya</td>\n",
                            "      <td>1_11_1_1</td>\n",
                            "    </tr>\n",
                            "    <tr>\n",
                            "      <th>3</th>\n",
                            "      <td>Much as I agree with your potential projections, we are not overwhelmingly Conservative (capital C), but the way our elections work exaggerated results to imply that we are. The tories got 56% of the seats with 43.6% of the votes having gained 7.5% of seats with a 1.2 percentage point swing in votes. This is with a protest vote over brexit and the relentless vilification of Corbyn by the press. It won\u0019t be long before people hit back and vote against the tories but if Scotland do ever leave the union then it will be a lot less likely.</td>\n",
                            "      <td>1_15</td>\n",
                            "    </tr>\n",
                            "    <tr>\n",
                            "      <th>4</th>\n",
                            "      <td>Brexit, the word, is why it succeeded. Nobody would have enthusiastically supported \"the withdrawal of the UK from the European Union project\". In my opinion, the papers have a lot to be responsible/guilty for by running with the terminology.</td>\n",
                            "      <td>2</td>\n",
                            "    </tr>\n",
                            "  </tbody>\n",
                            "</table>\n",
                            "</div>"
                        ],
                        "text/plain": [
                            "                                                                                                                                                                                                                                                                                                                                                                                                                                                                                                                                                        comment  \\\n",
                            "0                                                                                                                                                                                                                                                                                                                                                                                                                                    Agree.  With the Tories pushing Brexit, they have become a resting place for racists as well as right wing anti socialism.   \n",
                            "1                                                                                                                                                                                                                                                                                                                                                                                                                     I just thought that with plenty of vaccinations coming in and a Brexit deal finally secured we\u0019d be more hopeful and optimistic, but nah.   \n",
                            "2                                                                                                                                                                             If you don't listen to your core voter base, they won't vote for you. That's what labour did in the last election. You can believe it what ever you want, but if you think the people who voted for Brexit and Tories are the ones detached from reality and not the leftists who can't make progressive policies that anyone wants to vote for then I don't know what to tell ya   \n",
                            "3  Much as I agree with your potential projections, we are not overwhelmingly Conservative (capital C), but the way our elections work exaggerated results to imply that we are. The tories got 56% of the seats with 43.6% of the votes having gained 7.5% of seats with a 1.2 percentage point swing in votes. This is with a protest vote over brexit and the relentless vilification of Corbyn by the press. It won\u0019t be long before people hit back and vote against the tories but if Scotland do ever leave the union then it will be a lot less likely.   \n",
                            "4                                                                                                                                                                                                                                                                                                            Brexit, the word, is why it succeeded. Nobody would have enthusiastically supported \"the withdrawal of the UK from the European Union project\". In my opinion, the papers have a lot to be responsible/guilty for by running with the terminology.   \n",
                            "\n",
                            "  comment_id  \n",
                            "0  1_2_1_4_1  \n",
                            "1    1_8_1_1  \n",
                            "2   1_11_1_1  \n",
                            "3       1_15  \n",
                            "4          2  "
                        ]
                    },
                    "execution_count": 3,
                    "metadata": {},
                    "output_type": "execute_result"
                }
            ],
            "source": [
                "df_reddit = pd.read_csv('reddit.csv', usecols=['comment', 'comment_id'])\n",
                "df_reddit.head()"
            ]
        },
        {
            "attachments": {},
            "cell_type": "markdown",
            "metadata": {},
            "source": [
                "# Using NLTK"
            ]
        },
        {
            "cell_type": "code",
            "execution_count": 4,
            "metadata": {},
            "outputs": [
                {
                    "data": {
                        "text/html": [
                            "<div>\n",
                            "<style scoped>\n",
                            "    .dataframe tbody tr th:only-of-type {\n",
                            "        vertical-align: middle;\n",
                            "    }\n",
                            "\n",
                            "    .dataframe tbody tr th {\n",
                            "        vertical-align: top;\n",
                            "    }\n",
                            "\n",
                            "    .dataframe thead th {\n",
                            "        text-align: right;\n",
                            "    }\n",
                            "</style>\n",
                            "<table border=\"1\" class=\"dataframe\">\n",
                            "  <thead>\n",
                            "    <tr style=\"text-align: right;\">\n",
                            "      <th></th>\n",
                            "      <th>comment</th>\n",
                            "      <th>comment_id</th>\n",
                            "      <th>pos</th>\n",
                            "      <th>score</th>\n",
                            "    </tr>\n",
                            "  </thead>\n",
                            "  <tbody>\n",
                            "    <tr>\n",
                            "      <th>0</th>\n",
                            "      <td>Agree.  With the Tories pushing Brexit, they have become a resting place for racists as well as right wing anti socialism.</td>\n",
                            "      <td>1_2_1_4_1</td>\n",
                            "      <td>[(Agree, NNP), (., .), (With, IN), (the, DT), (Tories, NNPS), (pushing, VBG), (Brexit, NNP), (,, ,), (they, PRP), (have, VBP), (become, VBN), (a, DT), (resting, JJ), (place, NN), (for, IN), (racists, NNS), (as, RB), (well, RB), (as, IN), (right, JJ), (wing, VBG), (anti, JJ), (socialism, NN), (., .)]</td>\n",
                            "      <td>{'neg': 0.22, 'neu': 0.606, 'pos': 0.174, 'compound': -0.296}</td>\n",
                            "    </tr>\n",
                            "    <tr>\n",
                            "      <th>1</th>\n",
                            "      <td>I just thought that with plenty of vaccinations coming in and a Brexit deal finally secured we\u0019d be more hopeful and optimistic, but nah.</td>\n",
                            "      <td>1_8_1_1</td>\n",
                            "      <td>[(I, PRP), (just, RB), (thought, VBD), (that, IN), (with, IN), (plenty, NN), (of, IN), (vaccinations, NNS), (coming, VBG), (in, IN), (and, CC), (a, DT), (Brexit, NNP), (deal, NN), (finally, RB), (secured, VBN), (we\u0019d, NN), (be, VB), (more, RBR), (hopeful, JJ), (and, CC), (optimistic, JJ), (,, ,), (but, CC), (nah, RB), (., .)]</td>\n",
                            "      <td>{'neg': 0.063, 'neu': 0.705, 'pos': 0.232, 'compound': 0.5152}</td>\n",
                            "    </tr>\n",
                            "    <tr>\n",
                            "      <th>2</th>\n",
                            "      <td>If you don't listen to your core voter base, they won't vote for you. That's what labour did in the last election. You can believe it what ever you want, but if you think the people who voted for Brexit and Tories are the ones detached from reality and not the leftists who can't make progressive policies that anyone wants to vote for then I don't know what to tell ya</td>\n",
                            "      <td>1_11_1_1</td>\n",
                            "      <td>[(If, IN), (you, PRP), (do, VBP), (n't, RB), (listen, VB), (to, TO), (your, PRP$), (core, NN), (voter, NN), (base, NN), (,, ,), (they, PRP), (wo, MD), (n't, RB), (vote, VB), (for, IN), (you, PRP), (., .), (That, DT), ('s, VBZ), (what, WP), (labour, NN), (did, VBD), (in, IN), (the, DT), (last, JJ), (election, NN), (., .), (You, PRP), (can, MD), (believe, VB), (it, PRP), (what, WP), (ever, RB), (you, PRP), (want, VBP), (,, ,), (but, CC), (if, IN), (you, PRP), (think, VBP), (the, DT), (people, NNS), (who, WP), (voted, VBD), (for, IN), (Brexit, NNP), (and, CC), (Tories, NNPS), (are, VBP), (the, DT), (ones, NNS), (detached, VBN), (from, IN), (reality, NN), (and, CC), (not, RB), (the, DT), (leftists, NNS), (who, WP), (ca, MD), (n't, RB), (make, VB), (progressive, JJ), (policies, NNS), (that, IN), (anyone, NN), (wants, VBZ), (to, TO), (vote, VB), (for, IN), (then, RB), (I, PRP), (do, VBP), (n't, RB), (know, VB), (what, WP), (to, TO), (tell, VB), (ya, NN)]</td>\n",
                            "      <td>{'neg': 0.025, 'neu': 0.959, 'pos': 0.016, 'compound': -0.1531}</td>\n",
                            "    </tr>\n",
                            "    <tr>\n",
                            "      <th>3</th>\n",
                            "      <td>Much as I agree with your potential projections, we are not overwhelmingly Conservative (capital C), but the way our elections work exaggerated results to imply that we are. The tories got 56% of the seats with 43.6% of the votes having gained 7.5% of seats with a 1.2 percentage point swing in votes. This is with a protest vote over brexit and the relentless vilification of Corbyn by the press. It won\u0019t be long before people hit back and vote against the tories but if Scotland do ever leave the union then it will be a lot less likely.</td>\n",
                            "      <td>1_15</td>\n",
                            "      <td>[(Much, JJ), (as, IN), (I, PRP), (agree, VBP), (with, IN), (your, PRP$), (potential, JJ), (projections, NNS), (,, ,), (we, PRP), (are, VBP), (not, RB), (overwhelmingly, RB), (Conservative, JJ), ((, (), (capital, JJ), (C, NNP), (), )), (,, ,), (but, CC), (the, DT), (way, NN), (our, PRP$), (elections, NNS), (work, VBP), (exaggerated, JJ), (results, NNS), (to, TO), (imply, VB), (that, IN), (we, PRP), (are, VBP), (., .), (The, DT), (tories, NNS), (got, VBD), (56, CD), (%, NN), (of, IN), (the, DT), (seats, NNS), (with, IN), (43.6, CD), (%, NN), (of, IN), (the, DT), (votes, NNS), (having, VBG), (gained, VBN), (7.5, CD), (%, NN), (of, IN), (seats, NNS), (with, IN), (a, DT), (1.2, CD), (percentage, NN), (point, NN), (swing, NN), (in, IN), (votes, NNS), (., .), (This, DT), (is, VBZ), (with, IN), (a, DT), (protest, NN), (vote, NN), (over, IN), (brexit, NN), (and, CC), (the, DT), (relentless, JJ), (vilification, NN), (of, IN), (Corbyn, NNP), (by, IN), (the, DT), (press, NN), (., .), (It, PRP), (won\u0019t, VBD), (be, VB), (long, JJ), (before, IN), (people, NNS), (hit, VBP), (back, RB), (and, CC), (vote, NN), (against, IN), (the, DT), (tories, NNS), (but, CC), (if, IN), (Scotland, NNP), (do, VBP), (ever, RB), (leave, VB), (the, DT), ...]</td>\n",
                            "      <td>{'neg': 0.053, 'neu': 0.871, 'pos': 0.076, 'compound': 0.3038}</td>\n",
                            "    </tr>\n",
                            "    <tr>\n",
                            "      <th>4</th>\n",
                            "      <td>Brexit, the word, is why it succeeded. Nobody would have enthusiastically supported \"the withdrawal of the UK from the European Union project\". In my opinion, the papers have a lot to be responsible/guilty for by running with the terminology.</td>\n",
                            "      <td>2</td>\n",
                            "      <td>[(Brexit, NN), (,, ,), (the, DT), (word, NN), (,, ,), (is, VBZ), (why, WRB), (it, PRP), (succeeded, VBD), (., .), (Nobody, NN), (would, MD), (have, VB), (enthusiastically, RB), (supported, VBN), (``, ``), (the, DT), (withdrawal, NN), (of, IN), (the, DT), (UK, NNP), (from, IN), (the, DT), (European, NNP), (Union, NNP), (project, NN), ('', ''), (., .), (In, IN), (my, PRP$), (opinion, NN), (,, ,), (the, DT), (papers, NNS), (have, VBP), (a, DT), (lot, NN), (to, TO), (be, VB), (responsible/guilty, NN), (for, IN), (by, IN), (running, VBG), (with, IN), (the, DT), (terminology, NN), (., .)]</td>\n",
                            "      <td>{'neg': 0.0, 'neu': 0.776, 'pos': 0.224, 'compound': 0.8316}</td>\n",
                            "    </tr>\n",
                            "    <tr>\n",
                            "      <th>5</th>\n",
                            "      <td>\"Brexit means Brexit\"... =\"\\n\\nThe one stand out comment I remember from the leave campaign is Gove's \"the British people have had quite enough of experts.\". I guess it was true :(</td>\n",
                            "      <td>2_1_3</td>\n",
                            "      <td>[(``, ``), (Brexit, NN), (means, VBZ), (Brexit, NNP), ('', ''), (..., :), (=, NN), ('', ''), (The, DT), (one, CD), (stand, NN), (out, IN), (comment, NN), (I, PRP), (remember, VBP), (from, IN), (the, DT), (leave, NN), (campaign, NN), (is, VBZ), (Gove, NNP), ('s, POS), (``, ``), (the, DT), (British, JJ), (people, NNS), (have, VBP), (had, VBN), (quite, RB), (enough, RB), (of, IN), (experts., NN), ('', ''), (., .), (I, PRP), (guess, VBD), (it, PRP), (was, VBD), (true, JJ), (:, :), ((, ()]</td>\n",
                            "      <td>{'neg': 0.121, 'neu': 0.796, 'pos': 0.083, 'compound': -0.0772}</td>\n",
                            "    </tr>\n",
                            "    <tr>\n",
                            "      <th>6</th>\n",
                            "      <td>The word actually wasn\u0019t really used much anywhere until the week or so before the referendum, which is quite interesting for various reasons.\\n\\nhttps://trends.google.com/trends/explore?date=today%205-y&amp;amp;geo=GB&amp;amp;q=brexit</td>\n",
                            "      <td>2_2</td>\n",
                            "      <td>[(The, DT), (word, NN), (actually, RB), (wasn\u0019t, VBZ), (really, RB), (used, VBN), (much, RB), (anywhere, RB), (until, IN), (the, DT), (week, NN), (or, CC), (so, RB), (before, IN), (the, DT), (referendum, NN), (,, ,), (which, WDT), (is, VBZ), (quite, RB), (interesting, JJ), (for, IN), (various, JJ), (reasons, NNS), (., .), (https, NN), (:, :), (//trends.google.com/trends/explore, NN), (?, .), (date=today, JJ), (%, NN), (205-y, JJ), (&amp;, CC), (amp, NN), (;, :), (geo=GB, CC), (&amp;, CC), (amp, NN), (;, :), (q=brexit, NN)]</td>\n",
                            "      <td>{'neg': 0.0, 'neu': 0.885, 'pos': 0.115, 'compound': 0.4576}</td>\n",
                            "    </tr>\n",
                            "    <tr>\n",
                            "      <th>7</th>\n",
                            "      <td>It was used, but only as a kind of novelty term - let's not forget that it was intended as a slightly mocking or irreverent riff off the original \"Grexit\" which referred to Greece leaving the euro at the height of their economic troubles - which in the end never came to pass. Once the referendum was over, and it became clear we would leave rather than just being a hypothetical outcome, \"Brexit\" came into more mainstream usage.</td>\n",
                            "      <td>2_2_1_1_1_1</td>\n",
                            "      <td>[(It, PRP), (was, VBD), (used, VBN), (,, ,), (but, CC), (only, RB), (as, IN), (a, DT), (kind, NN), (of, IN), (novelty, JJ), (term, NN), (-, :), (let, NN), ('s, PRP), (not, RB), (forget, VB), (that, IN), (it, PRP), (was, VBD), (intended, VBN), (as, IN), (a, DT), (slightly, RB), (mocking, NN), (or, CC), (irreverent, NN), (riff, NN), (off, IN), (the, DT), (original, JJ), (``, ``), (Grexit, NNP), ('', ''), (which, WDT), (referred, VBD), (to, TO), (Greece, NNP), (leaving, VBG), (the, DT), (euro, NN), (at, IN), (the, DT), (height, NN), (of, IN), (their, PRP$), (economic, JJ), (troubles, NNS), (-, :), (which, WDT), (in, IN), (the, DT), (end, NN), (never, RB), (came, VBD), (to, TO), (pass, VB), (., .), (Once, IN), (the, DT), (referendum, NN), (was, VBD), (over, IN), (,, ,), (and, CC), (it, PRP), (became, VBD), (clear, JJ), (we, PRP), (would, MD), (leave, VB), (rather, RB), (than, IN), (just, RB), (being, VBG), (a, DT), (hypothetical, JJ), (outcome, NN), (,, ,), (``, ``), (Brexit, NN), ('', ''), (came, VBD), (into, IN), (more, RBR), (mainstream, JJ), (usage, NN), (., .)]</td>\n",
                            "      <td>{'neg': 0.1, 'neu': 0.8, 'pos': 0.1, 'compound': -0.0159}</td>\n",
                            "    </tr>\n",
                            "    <tr>\n",
                            "      <th>8</th>\n",
                            "      <td>This is exact right - the portmanteau of \u0018Grexit\u0019 led to the portmanteau of \u0018Brexit\u0019, and at the time was treated as an amusement, not as a precursor to what was to come.\\n\\nIf the \u0018leave vote\u0019 contingency have said anything correct over the last 4+ years it is the accurate accusation the the \u0018Remain\u0019 camp ran a truly terrible campaign that failed to recognise what the \u0018Leave\u0019 campaign spotted - and that is that millions of non-voters could be encouraged to vote just once by stirring up enough emotional buy-in to a simple message.</td>\n",
                            "      <td>2_2_1_1_1_1_1</td>\n",
                            "      <td>[(This, DT), (is, VBZ), (exact, JJ), (right, JJ), (-, :), (the, DT), (portmanteau, NN), (of, IN), (\u0018Grexit\u0019, NN), (led, VBN), (to, TO), (the, DT), (portmanteau, NN), (of, IN), (\u0018Brexit\u0019, NNP), (,, ,), (and, CC), (at, IN), (the, DT), (time, NN), (was, VBD), (treated, VBN), (as, IN), (an, DT), (amusement, NN), (,, ,), (not, RB), (as, IN), (a, DT), (precursor, NN), (to, TO), (what, WP), (was, VBD), (to, TO), (come, VB), (., .), (If, IN), (the, DT), (\u0018leave, NNP), (vote\u0019, NN), (contingency, NN), (have, VBP), (said, VBD), (anything, NN), (correct, NN), (over, IN), (the, DT), (last, JJ), (4+, CD), (years, NNS), (it, PRP), (is, VBZ), (the, DT), (accurate, JJ), (accusation, NN), (the, DT), (the, DT), (\u0018Remain\u0019, NNP), (camp, NN), (ran, VBD), (a, DT), (truly, RB), (terrible, JJ), (campaign, NN), (that, WDT), (failed, VBD), (to, TO), (recognise, VB), (what, WP), (the, DT), (\u0018Leave\u0019, NN), (campaign, NN), (spotted, VBD), (-, :), (and, CC), (that, DT), (is, VBZ), (that, IN), (millions, NNS), (of, IN), (non-voters, NNS), (could, MD), (be, VB), (encouraged, VBN), (to, TO), (vote, VB), (just, RB), (once, RB), (by, IN), (stirring, VBG), (up, RP), (enough, JJ), (emotional, JJ), (buy-in, NN), (to, TO), (a, DT), (simple, JJ), (message, NN), (., .)]</td>\n",
                            "      <td>{'neg': 0.083, 'neu': 0.823, 'pos': 0.094, 'compound': 0.0258}</td>\n",
                            "    </tr>\n",
                            "    <tr>\n",
                            "      <th>9</th>\n",
                            "      <td>It\u0019s probably somewhere between the two of us tbh.\\n\\nA Google search between 1st January 2016 and 31st May 2016 shows a few results in mainstream media but it\u0019s only a page or so of bigger results until you\u0019re into mostly academic territory and nerdy politics/economics blogs. The Economist and some other sources were still using quote marks around the word in those months leading up to the referendum, which I think gives an idea as to its novelty at the time.\\n\\nhttps://www.google.co.uk/search?q=brexit&amp;amp;hl=en-gb&amp;amp;tbs=cdr:1,cd_min:1/1/2016,cd_max:5/31/2016</td>\n",
                            "      <td>2_2_1_1_1_2</td>\n",
                            "      <td>[(It\u0019s, NNP), (probably, RB), (somewhere, RB), (between, IN), (the, DT), (two, CD), (of, IN), (us, PRP), (tbh, VBP), (., .), (A, DT), (Google, NNP), (search, NN), (between, IN), (1st, CD), (January, NNP), (2016, CD), (and, CC), (31st, CD), (May, NNP), (2016, CD), (shows, VBZ), (a, DT), (few, JJ), (results, NNS), (in, IN), (mainstream, JJ), (media, NNS), (but, CC), (it\u0019s, VBZ), (only, RB), (a, DT), (page, NN), (or, CC), (so, RB), (of, IN), (bigger, JJR), (results, NNS), (until, IN), (you\u0019re, JJ), (into, IN), (mostly, RB), (academic, JJ), (territory, NN), (and, CC), (nerdy, JJ), (politics/economics, NNS), (blogs, NNS), (., .), (The, DT), (Economist, NNP), (and, CC), (some, DT), (other, JJ), (sources, NNS), (were, VBD), (still, RB), (using, VBG), (quote, JJ), (marks, NNS), (around, IN), (the, DT), (word, NN), (in, IN), (those, DT), (months, NNS), (leading, VBG), (up, RB), (to, TO), (the, DT), (referendum, NN), (,, ,), (which, WDT), (I, PRP), (think, VBP), (gives, VBZ), (an, DT), (idea, NN), (as, IN), (to, TO), (its, PRP$), (novelty, NN), (at, IN), (the, DT), (time, NN), (., .), (https, NN), (:, :), (//www.google.co.uk/search, NN), (?, .), (q=brexit, NN), (&amp;, CC), (amp, NN), (;, :), (hl=en-gb, JJ), (&amp;, CC), (amp, NN), (;, :), (tbs=cdr:1, CC), (,, ,), ...]</td>\n",
                            "      <td>{'neg': 0.016, 'neu': 0.984, 'pos': 0.0, 'compound': -0.0772}</td>\n",
                            "    </tr>\n",
                            "  </tbody>\n",
                            "</table>\n",
                            "</div>"
                        ],
                        "text/plain": [
                            "                                                                                                                                                                                                                                                                                                                                                                                                                                                                                                                                                                                    comment  \\\n",
                            "0                                                                                                                                                                                                                                                                                                                                                                                                                                                                Agree.  With the Tories pushing Brexit, they have become a resting place for racists as well as right wing anti socialism.   \n",
                            "1                                                                                                                                                                                                                                                                                                                                                                                                                                                 I just thought that with plenty of vaccinations coming in and a Brexit deal finally secured we\u0019d be more hopeful and optimistic, but nah.   \n",
                            "2                                                                                                                                                                                                         If you don't listen to your core voter base, they won't vote for you. That's what labour did in the last election. You can believe it what ever you want, but if you think the people who voted for Brexit and Tories are the ones detached from reality and not the leftists who can't make progressive policies that anyone wants to vote for then I don't know what to tell ya   \n",
                            "3                              Much as I agree with your potential projections, we are not overwhelmingly Conservative (capital C), but the way our elections work exaggerated results to imply that we are. The tories got 56% of the seats with 43.6% of the votes having gained 7.5% of seats with a 1.2 percentage point swing in votes. This is with a protest vote over brexit and the relentless vilification of Corbyn by the press. It won\u0019t be long before people hit back and vote against the tories but if Scotland do ever leave the union then it will be a lot less likely.   \n",
                            "4                                                                                                                                                                                                                                                                                                                                        Brexit, the word, is why it succeeded. Nobody would have enthusiastically supported \"the withdrawal of the UK from the European Union project\". In my opinion, the papers have a lot to be responsible/guilty for by running with the terminology.   \n",
                            "5                                                                                                                                                                                                                                                                                                                                                                                                      \"Brexit means Brexit\"... =\"\\n\\nThe one stand out comment I remember from the leave campaign is Gove's \"the British people have had quite enough of experts.\". I guess it was true :(   \n",
                            "6                                                                                                                                                                                                                                                                                                                                                       The word actually wasn\u0019t really used much anywhere until the week or so before the referendum, which is quite interesting for various reasons.\\n\\nhttps://trends.google.com/trends/explore?date=today%205-y&amp;geo=GB&amp;q=brexit   \n",
                            "7                                                                                                                                            It was used, but only as a kind of novelty term - let's not forget that it was intended as a slightly mocking or irreverent riff off the original \"Grexit\" which referred to Greece leaving the euro at the height of their economic troubles - which in the end never came to pass. Once the referendum was over, and it became clear we would leave rather than just being a hypothetical outcome, \"Brexit\" came into more mainstream usage.   \n",
                            "8                                  This is exact right - the portmanteau of \u0018Grexit\u0019 led to the portmanteau of \u0018Brexit\u0019, and at the time was treated as an amusement, not as a precursor to what was to come.\\n\\nIf the \u0018leave vote\u0019 contingency have said anything correct over the last 4+ years it is the accurate accusation the the \u0018Remain\u0019 camp ran a truly terrible campaign that failed to recognise what the \u0018Leave\u0019 campaign spotted - and that is that millions of non-voters could be encouraged to vote just once by stirring up enough emotional buy-in to a simple message.   \n",
                            "9  It\u0019s probably somewhere between the two of us tbh.\\n\\nA Google search between 1st January 2016 and 31st May 2016 shows a few results in mainstream media but it\u0019s only a page or so of bigger results until you\u0019re into mostly academic territory and nerdy politics/economics blogs. The Economist and some other sources were still using quote marks around the word in those months leading up to the referendum, which I think gives an idea as to its novelty at the time.\\n\\nhttps://www.google.co.uk/search?q=brexit&amp;hl=en-gb&amp;tbs=cdr:1,cd_min:1/1/2016,cd_max:5/31/2016   \n",
                            "\n",
                            "      comment_id  \\\n",
                            "0      1_2_1_4_1   \n",
                            "1        1_8_1_1   \n",
                            "2       1_11_1_1   \n",
                            "3           1_15   \n",
                            "4              2   \n",
                            "5          2_1_3   \n",
                            "6            2_2   \n",
                            "7    2_2_1_1_1_1   \n",
                            "8  2_2_1_1_1_1_1   \n",
                            "9    2_2_1_1_1_2   \n",
                            "\n",
                            "                                                                                                                                                                                                                                                                                                                                                                                                                                                                                                                                                                                                                                                                                                                                                                                                                                                                                                                                                                                                                                                                                                                                                                                                                                                                                                                       pos  \\\n",
                            "0                                                                                                                                                                                                                                                                                                                                                                                                                                                                                                                                                                                                                                                                                                                                                                                                                                                                                                                                                                                                             [(Agree, NNP), (., .), (With, IN), (the, DT), (Tories, NNPS), (pushing, VBG), (Brexit, NNP), (,, ,), (they, PRP), (have, VBP), (become, VBN), (a, DT), (resting, JJ), (place, NN), (for, IN), (racists, NNS), (as, RB), (well, RB), (as, IN), (right, JJ), (wing, VBG), (anti, JJ), (socialism, NN), (., .)]   \n",
                            "1                                                                                                                                                                                                                                                                                                                                                                                                                                                                                                                                                                                                                                                                                                                                                                                                                                                                                                                                                                                  [(I, PRP), (just, RB), (thought, VBD), (that, IN), (with, IN), (plenty, NN), (of, IN), (vaccinations, NNS), (coming, VBG), (in, IN), (and, CC), (a, DT), (Brexit, NNP), (deal, NN), (finally, RB), (secured, VBN), (we\u0019d, NN), (be, VB), (more, RBR), (hopeful, JJ), (and, CC), (optimistic, JJ), (,, ,), (but, CC), (nah, RB), (., .)]   \n",
                            "2                                                                                                                                                                                                                                                                                                                       [(If, IN), (you, PRP), (do, VBP), (n't, RB), (listen, VB), (to, TO), (your, PRP$), (core, NN), (voter, NN), (base, NN), (,, ,), (they, PRP), (wo, MD), (n't, RB), (vote, VB), (for, IN), (you, PRP), (., .), (That, DT), ('s, VBZ), (what, WP), (labour, NN), (did, VBD), (in, IN), (the, DT), (last, JJ), (election, NN), (., .), (You, PRP), (can, MD), (believe, VB), (it, PRP), (what, WP), (ever, RB), (you, PRP), (want, VBP), (,, ,), (but, CC), (if, IN), (you, PRP), (think, VBP), (the, DT), (people, NNS), (who, WP), (voted, VBD), (for, IN), (Brexit, NNP), (and, CC), (Tories, NNPS), (are, VBP), (the, DT), (ones, NNS), (detached, VBN), (from, IN), (reality, NN), (and, CC), (not, RB), (the, DT), (leftists, NNS), (who, WP), (ca, MD), (n't, RB), (make, VB), (progressive, JJ), (policies, NNS), (that, IN), (anyone, NN), (wants, VBZ), (to, TO), (vote, VB), (for, IN), (then, RB), (I, PRP), (do, VBP), (n't, RB), (know, VB), (what, WP), (to, TO), (tell, VB), (ya, NN)]   \n",
                            "3                                 [(Much, JJ), (as, IN), (I, PRP), (agree, VBP), (with, IN), (your, PRP$), (potential, JJ), (projections, NNS), (,, ,), (we, PRP), (are, VBP), (not, RB), (overwhelmingly, RB), (Conservative, JJ), ((, (), (capital, JJ), (C, NNP), (), )), (,, ,), (but, CC), (the, DT), (way, NN), (our, PRP$), (elections, NNS), (work, VBP), (exaggerated, JJ), (results, NNS), (to, TO), (imply, VB), (that, IN), (we, PRP), (are, VBP), (., .), (The, DT), (tories, NNS), (got, VBD), (56, CD), (%, NN), (of, IN), (the, DT), (seats, NNS), (with, IN), (43.6, CD), (%, NN), (of, IN), (the, DT), (votes, NNS), (having, VBG), (gained, VBN), (7.5, CD), (%, NN), (of, IN), (seats, NNS), (with, IN), (a, DT), (1.2, CD), (percentage, NN), (point, NN), (swing, NN), (in, IN), (votes, NNS), (., .), (This, DT), (is, VBZ), (with, IN), (a, DT), (protest, NN), (vote, NN), (over, IN), (brexit, NN), (and, CC), (the, DT), (relentless, JJ), (vilification, NN), (of, IN), (Corbyn, NNP), (by, IN), (the, DT), (press, NN), (., .), (It, PRP), (won\u0019t, VBD), (be, VB), (long, JJ), (before, IN), (people, NNS), (hit, VBP), (back, RB), (and, CC), (vote, NN), (against, IN), (the, DT), (tories, NNS), (but, CC), (if, IN), (Scotland, NNP), (do, VBP), (ever, RB), (leave, VB), (the, DT), ...]   \n",
                            "4                                                                                                                                                                                                                                                                                                                                                                                                                                                                                                                                                                                                                                                                                                            [(Brexit, NN), (,, ,), (the, DT), (word, NN), (,, ,), (is, VBZ), (why, WRB), (it, PRP), (succeeded, VBD), (., .), (Nobody, NN), (would, MD), (have, VB), (enthusiastically, RB), (supported, VBN), (``, ``), (the, DT), (withdrawal, NN), (of, IN), (the, DT), (UK, NNP), (from, IN), (the, DT), (European, NNP), (Union, NNP), (project, NN), ('', ''), (., .), (In, IN), (my, PRP$), (opinion, NN), (,, ,), (the, DT), (papers, NNS), (have, VBP), (a, DT), (lot, NN), (to, TO), (be, VB), (responsible/guilty, NN), (for, IN), (by, IN), (running, VBG), (with, IN), (the, DT), (terminology, NN), (., .)]   \n",
                            "5                                                                                                                                                                                                                                                                                                                                                                                                                                                                                                                                                                                                                                                                                                                                                                                                                [(``, ``), (Brexit, NN), (means, VBZ), (Brexit, NNP), ('', ''), (..., :), (=, NN), ('', ''), (The, DT), (one, CD), (stand, NN), (out, IN), (comment, NN), (I, PRP), (remember, VBP), (from, IN), (the, DT), (leave, NN), (campaign, NN), (is, VBZ), (Gove, NNP), ('s, POS), (``, ``), (the, DT), (British, JJ), (people, NNS), (have, VBP), (had, VBN), (quite, RB), (enough, RB), (of, IN), (experts., NN), ('', ''), (., .), (I, PRP), (guess, VBD), (it, PRP), (was, VBD), (true, JJ), (:, :), ((, ()]   \n",
                            "6                                                                                                                                                                                                                                                                                                                                                                                                                                                                                                                                                                                                                                                                                                                                                                                 [(The, DT), (word, NN), (actually, RB), (wasn\u0019t, VBZ), (really, RB), (used, VBN), (much, RB), (anywhere, RB), (until, IN), (the, DT), (week, NN), (or, CC), (so, RB), (before, IN), (the, DT), (referendum, NN), (,, ,), (which, WDT), (is, VBZ), (quite, RB), (interesting, JJ), (for, IN), (various, JJ), (reasons, NNS), (., .), (https, NN), (:, :), (//trends.google.com/trends/explore, NN), (?, .), (date=today, JJ), (%, NN), (205-y, JJ), (&, CC), (amp, NN), (;, :), (geo=GB, CC), (&, CC), (amp, NN), (;, :), (q=brexit, NN)]   \n",
                            "7                                                                                                                                                                                                   [(It, PRP), (was, VBD), (used, VBN), (,, ,), (but, CC), (only, RB), (as, IN), (a, DT), (kind, NN), (of, IN), (novelty, JJ), (term, NN), (-, :), (let, NN), ('s, PRP), (not, RB), (forget, VB), (that, IN), (it, PRP), (was, VBD), (intended, VBN), (as, IN), (a, DT), (slightly, RB), (mocking, NN), (or, CC), (irreverent, NN), (riff, NN), (off, IN), (the, DT), (original, JJ), (``, ``), (Grexit, NNP), ('', ''), (which, WDT), (referred, VBD), (to, TO), (Greece, NNP), (leaving, VBG), (the, DT), (euro, NN), (at, IN), (the, DT), (height, NN), (of, IN), (their, PRP$), (economic, JJ), (troubles, NNS), (-, :), (which, WDT), (in, IN), (the, DT), (end, NN), (never, RB), (came, VBD), (to, TO), (pass, VB), (., .), (Once, IN), (the, DT), (referendum, NN), (was, VBD), (over, IN), (,, ,), (and, CC), (it, PRP), (became, VBD), (clear, JJ), (we, PRP), (would, MD), (leave, VB), (rather, RB), (than, IN), (just, RB), (being, VBG), (a, DT), (hypothetical, JJ), (outcome, NN), (,, ,), (``, ``), (Brexit, NN), ('', ''), (came, VBD), (into, IN), (more, RBR), (mainstream, JJ), (usage, NN), (., .)]   \n",
                            "8                          [(This, DT), (is, VBZ), (exact, JJ), (right, JJ), (-, :), (the, DT), (portmanteau, NN), (of, IN), (\u0018Grexit\u0019, NN), (led, VBN), (to, TO), (the, DT), (portmanteau, NN), (of, IN), (\u0018Brexit\u0019, NNP), (,, ,), (and, CC), (at, IN), (the, DT), (time, NN), (was, VBD), (treated, VBN), (as, IN), (an, DT), (amusement, NN), (,, ,), (not, RB), (as, IN), (a, DT), (precursor, NN), (to, TO), (what, WP), (was, VBD), (to, TO), (come, VB), (., .), (If, IN), (the, DT), (\u0018leave, NNP), (vote\u0019, NN), (contingency, NN), (have, VBP), (said, VBD), (anything, NN), (correct, NN), (over, IN), (the, DT), (last, JJ), (4+, CD), (years, NNS), (it, PRP), (is, VBZ), (the, DT), (accurate, JJ), (accusation, NN), (the, DT), (the, DT), (\u0018Remain\u0019, NNP), (camp, NN), (ran, VBD), (a, DT), (truly, RB), (terrible, JJ), (campaign, NN), (that, WDT), (failed, VBD), (to, TO), (recognise, VB), (what, WP), (the, DT), (\u0018Leave\u0019, NN), (campaign, NN), (spotted, VBD), (-, :), (and, CC), (that, DT), (is, VBZ), (that, IN), (millions, NNS), (of, IN), (non-voters, NNS), (could, MD), (be, VB), (encouraged, VBN), (to, TO), (vote, VB), (just, RB), (once, RB), (by, IN), (stirring, VBG), (up, RP), (enough, JJ), (emotional, JJ), (buy-in, NN), (to, TO), (a, DT), (simple, JJ), (message, NN), (., .)]   \n",
                            "9  [(It\u0019s, NNP), (probably, RB), (somewhere, RB), (between, IN), (the, DT), (two, CD), (of, IN), (us, PRP), (tbh, VBP), (., .), (A, DT), (Google, NNP), (search, NN), (between, IN), (1st, CD), (January, NNP), (2016, CD), (and, CC), (31st, CD), (May, NNP), (2016, CD), (shows, VBZ), (a, DT), (few, JJ), (results, NNS), (in, IN), (mainstream, JJ), (media, NNS), (but, CC), (it\u0019s, VBZ), (only, RB), (a, DT), (page, NN), (or, CC), (so, RB), (of, IN), (bigger, JJR), (results, NNS), (until, IN), (you\u0019re, JJ), (into, IN), (mostly, RB), (academic, JJ), (territory, NN), (and, CC), (nerdy, JJ), (politics/economics, NNS), (blogs, NNS), (., .), (The, DT), (Economist, NNP), (and, CC), (some, DT), (other, JJ), (sources, NNS), (were, VBD), (still, RB), (using, VBG), (quote, JJ), (marks, NNS), (around, IN), (the, DT), (word, NN), (in, IN), (those, DT), (months, NNS), (leading, VBG), (up, RB), (to, TO), (the, DT), (referendum, NN), (,, ,), (which, WDT), (I, PRP), (think, VBP), (gives, VBZ), (an, DT), (idea, NN), (as, IN), (to, TO), (its, PRP$), (novelty, NN), (at, IN), (the, DT), (time, NN), (., .), (https, NN), (:, :), (//www.google.co.uk/search, NN), (?, .), (q=brexit, NN), (&, CC), (amp, NN), (;, :), (hl=en-gb, JJ), (&, CC), (amp, NN), (;, :), (tbs=cdr:1, CC), (,, ,), ...]   \n",
                            "\n",
                            "                                                             score  \n",
                            "0    {'neg': 0.22, 'neu': 0.606, 'pos': 0.174, 'compound': -0.296}  \n",
                            "1   {'neg': 0.063, 'neu': 0.705, 'pos': 0.232, 'compound': 0.5152}  \n",
                            "2  {'neg': 0.025, 'neu': 0.959, 'pos': 0.016, 'compound': -0.1531}  \n",
                            "3   {'neg': 0.053, 'neu': 0.871, 'pos': 0.076, 'compound': 0.3038}  \n",
                            "4     {'neg': 0.0, 'neu': 0.776, 'pos': 0.224, 'compound': 0.8316}  \n",
                            "5  {'neg': 0.121, 'neu': 0.796, 'pos': 0.083, 'compound': -0.0772}  \n",
                            "6     {'neg': 0.0, 'neu': 0.885, 'pos': 0.115, 'compound': 0.4576}  \n",
                            "7        {'neg': 0.1, 'neu': 0.8, 'pos': 0.1, 'compound': -0.0159}  \n",
                            "8   {'neg': 0.083, 'neu': 0.823, 'pos': 0.094, 'compound': 0.0258}  \n",
                            "9    {'neg': 0.016, 'neu': 0.984, 'pos': 0.0, 'compound': -0.0772}  "
                        ]
                    },
                    "execution_count": 4,
                    "metadata": {},
                    "output_type": "execute_result"
                }
            ],
            "source": [
                "df_reddit_nltk = df_reddit.head(10).copy()\n",
                "\n",
                "analyzer = SentimentIntensityAnalyzer()\n",
                "i = 0\n",
                "df_reddit_nltk['pos'] = None\n",
                "df_reddit_nltk['score'] = None\n",
                "\n",
                "for comment in df_reddit_nltk['comment']:\n",
                "     tokens = nltk.word_tokenize(df_reddit_nltk['comment'][i])\n",
                "     df_reddit_nltk['pos'][i] = nltk.pos_tag(tokens)\n",
                "     df_reddit_nltk['score'][i] = analyzer.polarity_scores(df_reddit_nltk['comment'][i])\n",
                "     i = i + 1\n",
                "\n",
                "df_reddit_nltk"
            ]
        },
        {
            "attachments": {},
            "cell_type": "markdown",
            "metadata": {},
            "source": [
                "# Using DistilBERT Model"
            ]
        },
        {
            "cell_type": "code",
            "execution_count": 1,
            "metadata": {},
            "outputs": [
                {
                    "name": "stderr",
                    "output_type": "stream",
                    "text": [
                        "Some weights of the model checkpoint at distilbert-base-uncased were not used when initializing DistilBertForSequenceClassification: ['vocab_projector.weight', 'vocab_transform.weight', 'vocab_layer_norm.bias', 'vocab_transform.bias', 'vocab_layer_norm.weight', 'vocab_projector.bias']\n",
                        "- This IS expected if you are initializing DistilBertForSequenceClassification from the checkpoint of a model trained on another task or with another architecture (e.g. initializing a BertForSequenceClassification model from a BertForPreTraining model).\n",
                        "- This IS NOT expected if you are initializing DistilBertForSequenceClassification from the checkpoint of a model that you expect to be exactly identical (initializing a BertForSequenceClassification model from a BertForSequenceClassification model).\n",
                        "Some weights of DistilBertForSequenceClassification were not initialized from the model checkpoint at distilbert-base-uncased and are newly initialized: ['pre_classifier.bias', 'pre_classifier.weight', 'classifier.weight', 'classifier.bias']\n",
                        "You should probably TRAIN this model on a down-stream task to be able to use it for predictions and inference.\n"
                    ]
                }
            ],
            "source": [
                "import torch\n",
                "from transformers import DistilBertTokenizer, DistilBertForSequenceClassification\n",
                "\n",
                "tokenizer = DistilBertTokenizer.from_pretrained(\"distilbert-base-uncased\")\n",
                "model = DistilBertForSequenceClassification.from_pretrained(\"distilbert-base-uncased\")"
            ]
        },
        {
            "cell_type": "code",
            "execution_count": 9,
            "metadata": {},
            "outputs": [
                {
                    "data": {
                        "text/plain": [
                            "'LABEL_0'"
                        ]
                    },
                    "execution_count": 9,
                    "metadata": {},
                    "output_type": "execute_result"
                }
            ],
            "source": [
                "inputs = tokenizer(\"Hello, my dog is cute\", return_tensors=\"pt\")\n",
                "with torch.no_grad():\n",
                "    logits = model(**inputs).logits\n",
                "\n",
                "predicted_class_id = logits.argmax().item()\n",
                "model.config.id2label[predicted_class_id]"
            ]
        },
        {
            "cell_type": "code",
            "execution_count": 10,
            "metadata": {},
            "outputs": [
                {
                    "data": {
                        "text/html": [
                            "<div>\n",
                            "<style scoped>\n",
                            "    .dataframe tbody tr th:only-of-type {\n",
                            "        vertical-align: middle;\n",
                            "    }\n",
                            "\n",
                            "    .dataframe tbody tr th {\n",
                            "        vertical-align: top;\n",
                            "    }\n",
                            "\n",
                            "    .dataframe thead th {\n",
                            "        text-align: right;\n",
                            "    }\n",
                            "</style>\n",
                            "<table border=\"1\" class=\"dataframe\">\n",
                            "  <thead>\n",
                            "    <tr style=\"text-align: right;\">\n",
                            "      <th></th>\n",
                            "      <th>comment</th>\n",
                            "      <th>comment_id</th>\n",
                            "      <th>predicted</th>\n",
                            "    </tr>\n",
                            "  </thead>\n",
                            "  <tbody>\n",
                            "    <tr>\n",
                            "      <th>0</th>\n",
                            "      <td>Agree.  With the Tories pushing Brexit, they have become a resting place for racists as well as right wing anti socialism.</td>\n",
                            "      <td>1_2_1_4_1</td>\n",
                            "      <td>LABEL_1</td>\n",
                            "    </tr>\n",
                            "    <tr>\n",
                            "      <th>1</th>\n",
                            "      <td>I just thought that with plenty of vaccinations coming in and a Brexit deal finally secured we\u0019d be more hopeful and optimistic, but nah.</td>\n",
                            "      <td>1_8_1_1</td>\n",
                            "      <td>LABEL_1</td>\n",
                            "    </tr>\n",
                            "    <tr>\n",
                            "      <th>2</th>\n",
                            "      <td>If you don't listen to your core voter base, they won't vote for you. That's what labour did in the last election. You can believe it what ever you want, but if you think the people who voted for Brexit and Tories are the ones detached from reality and not the leftists who can't make progressive policies that anyone wants to vote for then I don't know what to tell ya</td>\n",
                            "      <td>1_11_1_1</td>\n",
                            "      <td>LABEL_1</td>\n",
                            "    </tr>\n",
                            "    <tr>\n",
                            "      <th>3</th>\n",
                            "      <td>Much as I agree with your potential projections, we are not overwhelmingly Conservative (capital C), but the way our elections work exaggerated results to imply that we are. The tories got 56% of the seats with 43.6% of the votes having gained 7.5% of seats with a 1.2 percentage point swing in votes. This is with a protest vote over brexit and the relentless vilification of Corbyn by the press. It won\u0019t be long before people hit back and vote against the tories but if Scotland do ever leave the union then it will be a lot less likely.</td>\n",
                            "      <td>1_15</td>\n",
                            "      <td>LABEL_1</td>\n",
                            "    </tr>\n",
                            "    <tr>\n",
                            "      <th>4</th>\n",
                            "      <td>Brexit, the word, is why it succeeded. Nobody would have enthusiastically supported \"the withdrawal of the UK from the European Union project\". In my opinion, the papers have a lot to be responsible/guilty for by running with the terminology.</td>\n",
                            "      <td>2</td>\n",
                            "      <td>LABEL_1</td>\n",
                            "    </tr>\n",
                            "    <tr>\n",
                            "      <th>5</th>\n",
                            "      <td>\"Brexit means Brexit\"... =\"\\n\\nThe one stand out comment I remember from the leave campaign is Gove's \"the British people have had quite enough of experts.\". I guess it was true :(</td>\n",
                            "      <td>2_1_3</td>\n",
                            "      <td>LABEL_1</td>\n",
                            "    </tr>\n",
                            "    <tr>\n",
                            "      <th>6</th>\n",
                            "      <td>The word actually wasn\u0019t really used much anywhere until the week or so before the referendum, which is quite interesting for various reasons.\\n\\nhttps://trends.google.com/trends/explore?date=today%205-y&amp;amp;geo=GB&amp;amp;q=brexit</td>\n",
                            "      <td>2_2</td>\n",
                            "      <td>LABEL_1</td>\n",
                            "    </tr>\n",
                            "    <tr>\n",
                            "      <th>7</th>\n",
                            "      <td>It was used, but only as a kind of novelty term - let's not forget that it was intended as a slightly mocking or irreverent riff off the original \"Grexit\" which referred to Greece leaving the euro at the height of their economic troubles - which in the end never came to pass. Once the referendum was over, and it became clear we would leave rather than just being a hypothetical outcome, \"Brexit\" came into more mainstream usage.</td>\n",
                            "      <td>2_2_1_1_1_1</td>\n",
                            "      <td>LABEL_1</td>\n",
                            "    </tr>\n",
                            "    <tr>\n",
                            "      <th>8</th>\n",
                            "      <td>This is exact right - the portmanteau of \u0018Grexit\u0019 led to the portmanteau of \u0018Brexit\u0019, and at the time was treated as an amusement, not as a precursor to what was to come.\\n\\nIf the \u0018leave vote\u0019 contingency have said anything correct over the last 4+ years it is the accurate accusation the the \u0018Remain\u0019 camp ran a truly terrible campaign that failed to recognise what the \u0018Leave\u0019 campaign spotted - and that is that millions of non-voters could be encouraged to vote just once by stirring up enough emotional buy-in to a simple message.</td>\n",
                            "      <td>2_2_1_1_1_1_1</td>\n",
                            "      <td>LABEL_1</td>\n",
                            "    </tr>\n",
                            "    <tr>\n",
                            "      <th>9</th>\n",
                            "      <td>It\u0019s probably somewhere between the two of us tbh.\\n\\nA Google search between 1st January 2016 and 31st May 2016 shows a few results in mainstream media but it\u0019s only a page or so of bigger results until you\u0019re into mostly academic territory and nerdy politics/economics blogs. The Economist and some other sources were still using quote marks around the word in those months leading up to the referendum, which I think gives an idea as to its novelty at the time.\\n\\nhttps://www.google.co.uk/search?q=brexit&amp;amp;hl=en-gb&amp;amp;tbs=cdr:1,cd_min:1/1/2016,cd_max:5/31/2016</td>\n",
                            "      <td>2_2_1_1_1_2</td>\n",
                            "      <td>LABEL_1</td>\n",
                            "    </tr>\n",
                            "  </tbody>\n",
                            "</table>\n",
                            "</div>"
                        ],
                        "text/plain": [
                            "                                                                                                                                                                                                                                                                                                                                                                                                                                                                                                                                                                                    comment  \\\n",
                            "0                                                                                                                                                                                                                                                                                                                                                                                                                                                                Agree.  With the Tories pushing Brexit, they have become a resting place for racists as well as right wing anti socialism.   \n",
                            "1                                                                                                                                                                                                                                                                                                                                                                                                                                                 I just thought that with plenty of vaccinations coming in and a Brexit deal finally secured we\u0019d be more hopeful and optimistic, but nah.   \n",
                            "2                                                                                                                                                                                                         If you don't listen to your core voter base, they won't vote for you. That's what labour did in the last election. You can believe it what ever you want, but if you think the people who voted for Brexit and Tories are the ones detached from reality and not the leftists who can't make progressive policies that anyone wants to vote for then I don't know what to tell ya   \n",
                            "3                              Much as I agree with your potential projections, we are not overwhelmingly Conservative (capital C), but the way our elections work exaggerated results to imply that we are. The tories got 56% of the seats with 43.6% of the votes having gained 7.5% of seats with a 1.2 percentage point swing in votes. This is with a protest vote over brexit and the relentless vilification of Corbyn by the press. It won\u0019t be long before people hit back and vote against the tories but if Scotland do ever leave the union then it will be a lot less likely.   \n",
                            "4                                                                                                                                                                                                                                                                                                                                        Brexit, the word, is why it succeeded. Nobody would have enthusiastically supported \"the withdrawal of the UK from the European Union project\". In my opinion, the papers have a lot to be responsible/guilty for by running with the terminology.   \n",
                            "5                                                                                                                                                                                                                                                                                                                                                                                                      \"Brexit means Brexit\"... =\"\\n\\nThe one stand out comment I remember from the leave campaign is Gove's \"the British people have had quite enough of experts.\". I guess it was true :(   \n",
                            "6                                                                                                                                                                                                                                                                                                                                                       The word actually wasn\u0019t really used much anywhere until the week or so before the referendum, which is quite interesting for various reasons.\\n\\nhttps://trends.google.com/trends/explore?date=today%205-y&amp;geo=GB&amp;q=brexit   \n",
                            "7                                                                                                                                            It was used, but only as a kind of novelty term - let's not forget that it was intended as a slightly mocking or irreverent riff off the original \"Grexit\" which referred to Greece leaving the euro at the height of their economic troubles - which in the end never came to pass. Once the referendum was over, and it became clear we would leave rather than just being a hypothetical outcome, \"Brexit\" came into more mainstream usage.   \n",
                            "8                                  This is exact right - the portmanteau of \u0018Grexit\u0019 led to the portmanteau of \u0018Brexit\u0019, and at the time was treated as an amusement, not as a precursor to what was to come.\\n\\nIf the \u0018leave vote\u0019 contingency have said anything correct over the last 4+ years it is the accurate accusation the the \u0018Remain\u0019 camp ran a truly terrible campaign that failed to recognise what the \u0018Leave\u0019 campaign spotted - and that is that millions of non-voters could be encouraged to vote just once by stirring up enough emotional buy-in to a simple message.   \n",
                            "9  It\u0019s probably somewhere between the two of us tbh.\\n\\nA Google search between 1st January 2016 and 31st May 2016 shows a few results in mainstream media but it\u0019s only a page or so of bigger results until you\u0019re into mostly academic territory and nerdy politics/economics blogs. The Economist and some other sources were still using quote marks around the word in those months leading up to the referendum, which I think gives an idea as to its novelty at the time.\\n\\nhttps://www.google.co.uk/search?q=brexit&amp;hl=en-gb&amp;tbs=cdr:1,cd_min:1/1/2016,cd_max:5/31/2016   \n",
                            "\n",
                            "      comment_id predicted  \n",
                            "0      1_2_1_4_1   LABEL_1  \n",
                            "1        1_8_1_1   LABEL_1  \n",
                            "2       1_11_1_1   LABEL_1  \n",
                            "3           1_15   LABEL_1  \n",
                            "4              2   LABEL_1  \n",
                            "5          2_1_3   LABEL_1  \n",
                            "6            2_2   LABEL_1  \n",
                            "7    2_2_1_1_1_1   LABEL_1  \n",
                            "8  2_2_1_1_1_1_1   LABEL_1  \n",
                            "9    2_2_1_1_1_2   LABEL_1  "
                        ]
                    },
                    "execution_count": 10,
                    "metadata": {},
                    "output_type": "execute_result"
                }
            ],
            "source": [
                "df_reddit_DistilBERT = df_reddit.head(10).copy()\n",
                "i = 0\n",
                "df_reddit_DistilBERT['predicted'] = None\n",
                "\n",
                "for comment in df_reddit_DistilBERT['comment']:\n",
                "     inputs = tokenizer(df_reddit_DistilBERT['comment'][i], return_tensors=\"pt\")\n",
                "     with torch.no_grad():\n",
                "          logits = model(**inputs).logits\n",
                "\n",
                "     predicted_class_id = logits.argmax().item()\n",
                "     df_reddit_DistilBERT['predicted'][i] = model.config.id2label[predicted_class_id]\n",
                "     i = i + 1\n",
                "\n",
                "df_reddit_DistilBERT"
            ]
        },
        {
            "cell_type": "code",
            "execution_count": 12,
            "metadata": {},
            "outputs": [],
            "source": [
                "text = \"This is an example sentence to encode using DistilBERT.\"\n",
                "encoded_text = tokenizer.encode(\"[CLS] \" + text + \" [SEP]\")\n",
                "input_ids = torch.tensor([encoded_text])\n",
                "outputs = model(input_ids)\n",
                "hidden_states = outputs[0]"
            ]
        },
        {
            "cell_type": "code",
            "execution_count": 13,
            "metadata": {},
            "outputs": [
                {
                    "data": {
                        "text/plain": [
                            "tensor([[  101,   101,  2023,  2003,  2019,  2742,  6251,  2000,  4372, 16044,\n",
                            "          2478,  4487, 16643, 23373,  1012,   102,   102]])"
                        ]
                    },
                    "execution_count": 13,
                    "metadata": {},
                    "output_type": "execute_result"
                }
            ],
            "source": [
                "input_ids"
            ]
        },
        {
            "cell_type": "code",
            "execution_count": 14,
            "metadata": {},
            "outputs": [
                {
                    "data": {
                        "text/plain": [
                            "SequenceClassifierOutput(loss=None, logits=tensor([[-0.1000, -0.0733]], grad_fn=<AddmmBackward0>), hidden_states=None, attentions=None)"
                        ]
                    },
                    "execution_count": 14,
                    "metadata": {},
                    "output_type": "execute_result"
                }
            ],
            "source": [
                "outputs"
            ]
        },
        {
            "attachments": {},
            "cell_type": "markdown",
            "metadata": {},
            "source": [
                "# Using DistilBERT Model (Cosine Similarity)"
            ]
        },
        {
            "cell_type": "code",
            "execution_count": 6,
            "metadata": {},
            "outputs": [
                {
                    "data": {
                        "text/html": [
                            "<div>\n",
                            "<style scoped>\n",
                            "    .dataframe tbody tr th:only-of-type {\n",
                            "        vertical-align: middle;\n",
                            "    }\n",
                            "\n",
                            "    .dataframe tbody tr th {\n",
                            "        vertical-align: top;\n",
                            "    }\n",
                            "\n",
                            "    .dataframe thead th {\n",
                            "        text-align: right;\n",
                            "    }\n",
                            "</style>\n",
                            "<table border=\"1\" class=\"dataframe\">\n",
                            "  <thead>\n",
                            "    <tr style=\"text-align: right;\">\n",
                            "      <th></th>\n",
                            "      <th>comment</th>\n",
                            "      <th>comment_id</th>\n",
                            "    </tr>\n",
                            "  </thead>\n",
                            "  <tbody>\n",
                            "    <tr>\n",
                            "      <th>0</th>\n",
                            "      <td>Agree.  With the Tories pushing Brexit, they have become a resting place for racists as well as right wing anti socialism.</td>\n",
                            "      <td>1_2_1_4_1</td>\n",
                            "    </tr>\n",
                            "    <tr>\n",
                            "      <th>1</th>\n",
                            "      <td>I just thought that with plenty of vaccinations coming in and a Brexit deal finally secured we\u0019d be more hopeful and optimistic, but nah.</td>\n",
                            "      <td>1_8_1_1</td>\n",
                            "    </tr>\n",
                            "    <tr>\n",
                            "      <th>2</th>\n",
                            "      <td>If you don't listen to your core voter base, they won't vote for you. That's what labour did in the last election. You can believe it what ever you want, but if you think the people who voted for Brexit and Tories are the ones detached from reality and not the leftists who can't make progressive policies that anyone wants to vote for then I don't know what to tell ya</td>\n",
                            "      <td>1_11_1_1</td>\n",
                            "    </tr>\n",
                            "    <tr>\n",
                            "      <th>3</th>\n",
                            "      <td>Much as I agree with your potential projections, we are not overwhelmingly Conservative (capital C), but the way our elections work exaggerated results to imply that we are. The tories got 56% of the seats with 43.6% of the votes having gained 7.5% of seats with a 1.2 percentage point swing in votes. This is with a protest vote over brexit and the relentless vilification of Corbyn by the press. It won\u0019t be long before people hit back and vote against the tories but if Scotland do ever leave the union then it will be a lot less likely.</td>\n",
                            "      <td>1_15</td>\n",
                            "    </tr>\n",
                            "    <tr>\n",
                            "      <th>4</th>\n",
                            "      <td>Brexit, the word, is why it succeeded. Nobody would have enthusiastically supported \"the withdrawal of the UK from the European Union project\". In my opinion, the papers have a lot to be responsible/guilty for by running with the terminology.</td>\n",
                            "      <td>2</td>\n",
                            "    </tr>\n",
                            "    <tr>\n",
                            "      <th>...</th>\n",
                            "      <td>...</td>\n",
                            "      <td>...</td>\n",
                            "    </tr>\n",
                            "    <tr>\n",
                            "      <th>95</th>\n",
                            "      <td>A hard brexit was defined (prior to the referendum) as us leaving the customs union, What would your definition be?</td>\n",
                            "      <td>2_2_1_4_1_2_2</td>\n",
                            "    </tr>\n",
                            "    <tr>\n",
                            "      <th>96</th>\n",
                            "      <td>Because the current deal (backstop) ties the UK to EU rules with the added setback of having left the EU and not having any say in EU rules.  With that argument, it's clear to see why hard brexiters are against it - it is not a hard brexit at all.</td>\n",
                            "      <td>2_2_1_4_1_2_2_1</td>\n",
                            "    </tr>\n",
                            "    <tr>\n",
                            "      <th>97</th>\n",
                            "      <td>How is Mays deal a hard brexit? We stay in the customs union until 2020 until a trade deal is reach. If none is reached we stay in it, indefinitely. That's not a hard brexit.</td>\n",
                            "      <td>2_2_1_4_1_4</td>\n",
                            "    </tr>\n",
                            "    <tr>\n",
                            "      <th>98</th>\n",
                            "      <td>i get paid in dollars, and i am sick of explaining to brexiteers, no, this is not making me rich, it's just making what i have worth less and i'm paying more tax on it too</td>\n",
                            "      <td>2_2_1_4_2_1_1_1</td>\n",
                            "    </tr>\n",
                            "    <tr>\n",
                            "      <th>99</th>\n",
                            "      <td>Brexit means Brexit Of Some Kind!</td>\n",
                            "      <td>2_2_1_5</td>\n",
                            "    </tr>\n",
                            "  </tbody>\n",
                            "</table>\n",
                            "<p>100 rows × 2 columns</p>\n",
                            "</div>"
                        ],
                        "text/plain": [
                            "                                                                                                                                                                                                                                                                                                                                                                                                                                                                                                                                                         comment  \\\n",
                            "0                                                                                                                                                                                                                                                                                                                                                                                                                                     Agree.  With the Tories pushing Brexit, they have become a resting place for racists as well as right wing anti socialism.   \n",
                            "1                                                                                                                                                                                                                                                                                                                                                                                                                      I just thought that with plenty of vaccinations coming in and a Brexit deal finally secured we\u0019d be more hopeful and optimistic, but nah.   \n",
                            "2                                                                                                                                                                              If you don't listen to your core voter base, they won't vote for you. That's what labour did in the last election. You can believe it what ever you want, but if you think the people who voted for Brexit and Tories are the ones detached from reality and not the leftists who can't make progressive policies that anyone wants to vote for then I don't know what to tell ya   \n",
                            "3   Much as I agree with your potential projections, we are not overwhelmingly Conservative (capital C), but the way our elections work exaggerated results to imply that we are. The tories got 56% of the seats with 43.6% of the votes having gained 7.5% of seats with a 1.2 percentage point swing in votes. This is with a protest vote over brexit and the relentless vilification of Corbyn by the press. It won\u0019t be long before people hit back and vote against the tories but if Scotland do ever leave the union then it will be a lot less likely.   \n",
                            "4                                                                                                                                                                                                                                                                                                             Brexit, the word, is why it succeeded. Nobody would have enthusiastically supported \"the withdrawal of the UK from the European Union project\". In my opinion, the papers have a lot to be responsible/guilty for by running with the terminology.   \n",
                            "..                                                                                                                                                                                                                                                                                                                                                                                                                                                                                                                                                           ...   \n",
                            "95                                                                                                                                                                                                                                                                                                                                                                                                                                           A hard brexit was defined (prior to the referendum) as us leaving the customs union, What would your definition be?   \n",
                            "96                                                                                                                                                                                                                                                                                                       Because the current deal (backstop) ties the UK to EU rules with the added setback of having left the EU and not having any say in EU rules.  With that argument, it's clear to see why hard brexiters are against it - it is not a hard brexit at all.   \n",
                            "97                                                                                                                                                                                                                                                                                                                                                                                How is Mays deal a hard brexit? We stay in the customs union until 2020 until a trade deal is reach. If none is reached we stay in it, indefinitely. That's not a hard brexit.   \n",
                            "98                                                                                                                                                                                                                                                                                                                                                                                   i get paid in dollars, and i am sick of explaining to brexiteers, no, this is not making me rich, it's just making what i have worth less and i'm paying more tax on it too   \n",
                            "99                                                                                                                                                                                                                                                                                                                                                                                                                                                                                                                           \n",
                            "Brexit means Brexit Of Some Kind!\n",
                            "   \n",
                            "\n",
                            "         comment_id  \n",
                            "0         1_2_1_4_1  \n",
                            "1           1_8_1_1  \n",
                            "2          1_11_1_1  \n",
                            "3              1_15  \n",
                            "4                 2  \n",
                            "..              ...  \n",
                            "95    2_2_1_4_1_2_2  \n",
                            "96  2_2_1_4_1_2_2_1  \n",
                            "97      2_2_1_4_1_4  \n",
                            "98  2_2_1_4_2_1_1_1  \n",
                            "99          2_2_1_5  \n",
                            "\n",
                            "[100 rows x 2 columns]"
                        ]
                    },
                    "execution_count": 6,
                    "metadata": {},
                    "output_type": "execute_result"
                }
            ],
            "source": [
                "df_reddit_DistilBERT = df_reddit.head(100).copy()\n",
                "df_reddit_DistilBERT"
            ]
        },
        {
            "cell_type": "code",
            "execution_count": 7,
            "metadata": {},
            "outputs": [],
            "source": [
                "def get_reference(num):\n",
                "    try:\n",
                "        temp_array = []\n",
                "        num_list = num.split(\"_\")\n",
                "    \n",
                "        if len(num_list) > 1:\n",
                "            num_list.pop()\n",
                "\n",
                "        concat_num = '_'.join(num_list)\n",
                "        data = {'reference_id': concat_num}\n",
                "        df = pd.DataFrame(data, index=[0])    \n",
                "        return df \n",
                "    except: \n",
                "        data = {'reference_id': 'NA'}\n",
                "        df = pd.DataFrame(data, index=[0])    \n",
                "        return df "
            ]
        },
        {
            "cell_type": "code",
            "execution_count": 8,
            "metadata": {},
            "outputs": [
                {
                    "data": {
                        "text/html": [
                            "<div>\n",
                            "<style scoped>\n",
                            "    .dataframe tbody tr th:only-of-type {\n",
                            "        vertical-align: middle;\n",
                            "    }\n",
                            "\n",
                            "    .dataframe tbody tr th {\n",
                            "        vertical-align: top;\n",
                            "    }\n",
                            "\n",
                            "    .dataframe thead th {\n",
                            "        text-align: right;\n",
                            "    }\n",
                            "</style>\n",
                            "<table border=\"1\" class=\"dataframe\">\n",
                            "  <thead>\n",
                            "    <tr style=\"text-align: right;\">\n",
                            "      <th></th>\n",
                            "      <th>reference_id</th>\n",
                            "    </tr>\n",
                            "  </thead>\n",
                            "  <tbody>\n",
                            "    <tr>\n",
                            "      <th>0</th>\n",
                            "      <td>1_2_1_4</td>\n",
                            "    </tr>\n",
                            "    <tr>\n",
                            "      <th>0</th>\n",
                            "      <td>1_8_1</td>\n",
                            "    </tr>\n",
                            "    <tr>\n",
                            "      <th>0</th>\n",
                            "      <td>1_11_1</td>\n",
                            "    </tr>\n",
                            "    <tr>\n",
                            "      <th>0</th>\n",
                            "      <td>1</td>\n",
                            "    </tr>\n",
                            "    <tr>\n",
                            "      <th>0</th>\n",
                            "      <td>2</td>\n",
                            "    </tr>\n",
                            "    <tr>\n",
                            "      <th>...</th>\n",
                            "      <td>...</td>\n",
                            "    </tr>\n",
                            "    <tr>\n",
                            "      <th>0</th>\n",
                            "      <td>2_2_1_4_1_2</td>\n",
                            "    </tr>\n",
                            "    <tr>\n",
                            "      <th>0</th>\n",
                            "      <td>2_2_1_4_1_2_2</td>\n",
                            "    </tr>\n",
                            "    <tr>\n",
                            "      <th>0</th>\n",
                            "      <td>2_2_1_4_1</td>\n",
                            "    </tr>\n",
                            "    <tr>\n",
                            "      <th>0</th>\n",
                            "      <td>2_2_1_4_2_1_1</td>\n",
                            "    </tr>\n",
                            "    <tr>\n",
                            "      <th>0</th>\n",
                            "      <td>2_2_1</td>\n",
                            "    </tr>\n",
                            "  </tbody>\n",
                            "</table>\n",
                            "<p>100 rows × 1 columns</p>\n",
                            "</div>"
                        ],
                        "text/plain": [
                            "     reference_id\n",
                            "0         1_2_1_4\n",
                            "0           1_8_1\n",
                            "0          1_11_1\n",
                            "0               1\n",
                            "0               2\n",
                            "..            ...\n",
                            "0     2_2_1_4_1_2\n",
                            "0   2_2_1_4_1_2_2\n",
                            "0       2_2_1_4_1\n",
                            "0   2_2_1_4_2_1_1\n",
                            "0           2_2_1\n",
                            "\n",
                            "[100 rows x 1 columns]"
                        ]
                    },
                    "execution_count": 8,
                    "metadata": {},
                    "output_type": "execute_result"
                }
            ],
            "source": [
                "df_reference = pd.concat(get_reference(comment_id) for comment_id in df_reddit_DistilBERT['comment_id'])\n",
                "df_reddit_df_reference"
            ]
        },
        {
            "cell_type": "code",
            "execution_count": 14,
            "metadata": {},
            "outputs": [
                {
                    "name": "stderr",
                    "output_type": "stream",
                    "text": [
                        "Some weights of the model checkpoint at distilbert-base-uncased were not used when initializing DistilBertModel: ['vocab_projector.weight', 'vocab_transform.weight', 'vocab_layer_norm.bias', 'vocab_transform.bias', 'vocab_layer_norm.weight', 'vocab_projector.bias']\n",
                        "- This IS expected if you are initializing DistilBertModel from the checkpoint of a model trained on another task or with another architecture (e.g. initializing a BertForSequenceClassification model from a BertForPreTraining model).\n",
                        "- This IS NOT expected if you are initializing DistilBertModel from the checkpoint of a model that you expect to be exactly identical (initializing a BertForSequenceClassification model from a BertForSequenceClassification model).\n"
                    ]
                },
                {
                    "name": "stdout",
                    "output_type": "stream",
                    "text": [
                        "[[0.99577045]]\n"
                    ]
                }
            ],
            "source": [
                "from transformers import DistilBertTokenizer, DistilBertModel\n",
                "\n",
                "tokenizer = DistilBertTokenizer.from_pretrained('distilbert-base-uncased')\n",
                "model = DistilBertModel.from_pretrained('distilbert-base-uncased')\n",
                "\n",
                "statement1 = \"The sky is blue.\"\n",
                "statement2 = \"The sky is green.\"\n",
                "\n",
                "encoded_statement1 = tokenizer.encode(statement1, return_tensors='pt')\n",
                "encoded_statement2 = tokenizer.encode(statement2, return_tensors='pt')\n",
                "\n",
                "with torch.no_grad():\n",
                "    vector1 = model(encoded_statement1)[0][:, 0, :].numpy()\n",
                "    vector2 = model(encoded_statement2)[0][:, 0, :].numpy()\n",
                "\n",
                "from sklearn.metrics.pairwise import cosine_similarity\n",
                "\n",
                "similarity = cosine_similarity(vector1, vector2)\n",
                "print(similarity)"
            ]
        },
        {
            "cell_type": "code",
            "execution_count": null,
            "metadata": {},
            "outputs": [],
            "source": []
        }
    ],
    "metadata": {
        "kernelspec": {
            "display_name": "base",
            "language": "python",
            "name": "python3"
        },
        "language_info": {
            "codemirror_mode": {
                "name": "ipython",
                "version": 3
            },
            "file_extension": ".py",
            "mimetype": "text/x-python",
            "name": "python",
            "nbconvert_exporter": "python",
            "pygments_lexer": "ipython3",
            "version": "3.9.13"
        },
        "orig_nbformat": 4
    },
    "nbformat": 4,
    "nbformat_minor": 2
}
