{
 "cells": [
  {
   "cell_type": "code",
   "execution_count": 77,
   "metadata": {},
   "outputs": [],
   "source": [
    "\n",
    "import csv\n",
    "import pandas as pd\n",
    "from newspaper import Article\n",
    "df = pd.read_csv(\"df_news.csv\")\n",
    "df = df.dropna()\n",
    "   \n",
    "links = df[\"News Link\"]\n"
   ]
  },
  {
   "cell_type": "code",
   "execution_count": 78,
   "metadata": {},
   "outputs": [],
   "source": [
    "def scrape_article(url):\n",
    "    result = ()\n",
    "    try:\n",
    "        article = Article(url)\n",
    "        article.download()\n",
    "        article.parse()\n",
    "        result = (article.title, article.text)\n",
    "    except Exception as e:\n",
    "        print(f\"Error: {e}. Skipping {url}.\")\n",
    "    return result"
   ]
  },
  {
   "cell_type": "code",
   "execution_count": 79,
   "metadata": {},
   "outputs": [
    {
     "name": "stdout",
     "output_type": "stream",
     "text": [
      "Error: Article `download()` failed with ('Connection aborted.', RemoteDisconnected('Remote end closed connection without response')) on URL https://simpleflying.com/uk-airports-100ml-rule-removal-guide/. Skipping https://simpleflying.com/uk-airports-100ml-rule-removal-guide/.\n",
      "Error: Article `download()` failed with HTTPSConnectionPool(host='scramnews.com', port=443): Max retries exceeded with url: /unforgivable-uproar-after-erasmus-scheme-scrapped-in-brexit-vote/ (Caused by NewConnectionError('<urllib3.connection.HTTPSConnection object at 0x7fca61a49d20>: Failed to establish a new connection: [Errno 61] Connection refused')) on URL https://scramnews.com/unforgivable-uproar-after-erasmus-scheme-scrapped-in-brexit-vote/. Skipping https://scramnews.com/unforgivable-uproar-after-erasmus-scheme-scrapped-in-brexit-vote/.\n",
      "Error: Article `download()` failed with 404 Client Error: Not Found for url: https://www.thelondoneconomic.com/politics/47-of-brits-think-brexit-was-a-bad-idea-new-poll/26/08/ on URL https://www.thelondoneconomic.com/politics/47-of-brits-think-brexit-was-a-bad-idea-new-poll/26/08/. Skipping https://www.thelondoneconomic.com/politics/47-of-brits-think-brexit-was-a-bad-idea-new-poll/26/08/.\n",
      "Error: Article `download()` failed with 403 Client Error: Max restarts limit reached for url: https://www.forbes.com/sites/francescoppola/2017/04/30/the-uk-government-is-completely-deluded-about-brexit/ on URL https://www.forbes.com/sites/francescoppola/2017/04/30/the-uk-government-is-completely-deluded-about-brexit/. Skipping https://www.forbes.com/sites/francescoppola/2017/04/30/the-uk-government-is-completely-deluded-about-brexit/.\n",
      "Error: Article `download()` failed with 404 Client Error: Not Found for url: https://www.theneweuropean.co.uk/top-stories/last-night-of-the-proms-eu-flags-1-6270280 on URL https://www.theneweuropean.co.uk/top-stories/last-night-of-the-proms-eu-flags-1-6270280. Skipping https://www.theneweuropean.co.uk/top-stories/last-night-of-the-proms-eu-flags-1-6270280.\n",
      "Error: Article `download()` failed with HTTPSConnectionPool(host='www.thenational.scot', port=443): Read timed out. (read timeout=7) on URL https://www.thenational.scot/news/17578265.brexit-guy-verhofstadt-hits-out-at-uk-for-going-on-holiday/. Skipping https://www.thenational.scot/news/17578265.brexit-guy-verhofstadt-hits-out-at-uk-for-going-on-holiday/.\n",
      "Error: Article `download()` failed with HTTPSConnectionPool(host='newsthump.com', port=443): Read timed out. (read timeout=7) on URL https://newsthump.com/2020/12/21/brexiters-left-stunned-after-several-eu-countries-demonstrate-easy-control-of-their-own-borders/. Skipping https://newsthump.com/2020/12/21/brexiters-left-stunned-after-several-eu-countries-demonstrate-easy-control-of-their-own-borders/.\n",
      "Error: Article `download()` failed with 404 Client Error: Not Found for url: https://www.theneweuropean.co.uk/brexit-news/martin-daubney-analysis-of-brexit-deal-6873128 on URL https://www.theneweuropean.co.uk/brexit-news/martin-daubney-analysis-of-brexit-deal-6873128. Skipping https://www.theneweuropean.co.uk/brexit-news/martin-daubney-analysis-of-brexit-deal-6873128.\n",
      "Error: Article `download()` failed with HTTPSConnectionPool(host='newsthump.com', port=443): Read timed out. (read timeout=7) on URL https://newsthump.com/2021/09/24/brexit-going-really-well-actually-insists-government-with-no-fuel-energy-food-workers-border-control-or-trade-deals/. Skipping https://newsthump.com/2021/09/24/brexit-going-really-well-actually-insists-government-with-no-fuel-energy-food-workers-border-control-or-trade-deals/.\n",
      "Error: Article `download()` failed with 404 Client Error: Not Found for url: https://news.sky.com/story/pmqs-live-deputy-stands-in-for-may-as-she-bids-for-brexit-breakthrough-11629631?inApp=true on URL https://news.sky.com/story/pmqs-live-deputy-stands-in-for-may-as-she-bids-for-brexit-breakthrough-11629631?inApp=true. Skipping https://news.sky.com/story/pmqs-live-deputy-stands-in-for-may-as-she-bids-for-brexit-breakthrough-11629631?inApp=true.\n"
     ]
    },
    {
     "name": "stderr",
     "output_type": "stream",
     "text": [
      "/var/folders/qw/hxf5ljdx70s36sdwjypv9p2r0000gn/T/ipykernel_7075/3744484769.py:1: FutureWarning: The default dtype for empty Series will be 'object' instead of 'float64' in a future version. Specify a dtype explicitly to silence this warning.\n",
      "  df[[\"title\", \"text\"]] = df[\"News Link\"].apply(scrape_article).apply(pd.Series)\n"
     ]
    }
   ],
   "source": [
    "df[[\"title\", \"text\"]] = df[\"News Link\"].apply(scrape_article).apply(pd.Series)\n"
   ]
  },
  {
   "cell_type": "code",
   "execution_count": 80,
   "metadata": {},
   "outputs": [],
   "source": [
    "df[[\"title\", \"text\"]].to_csv('df_news_content.csv', index=False)"
   ]
  }
 ],
 "metadata": {
  "kernelspec": {
   "display_name": "base",
   "language": "python",
   "name": "python3"
  },
  "language_info": {
   "codemirror_mode": {
    "name": "ipython",
    "version": 3
   },
   "file_extension": ".py",
   "mimetype": "text/x-python",
   "name": "python",
   "nbconvert_exporter": "python",
   "pygments_lexer": "ipython3",
   "version": "3.10.9"
  },
  "orig_nbformat": 4
 },
 "nbformat": 4,
 "nbformat_minor": 2
}
