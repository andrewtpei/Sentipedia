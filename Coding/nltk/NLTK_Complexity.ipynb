{
    "cells": [
        {
            "attachments": {},
            "cell_type": "markdown",
            "metadata": {},
            "source": [
                "<font style='font-size:1.5em'>**NLTK Complexity Portion of the Project**</font>\n",
                "\n",
                "**Author: Sentipedia**  \n",
                "\n",
                "**Course: DS105L Project** \n",
                "\n",
                "---\n"
            ]
        },
        {
            "attachments": {},
            "cell_type": "markdown",
            "metadata": {},
            "source": [
                "## Import"
            ]
        },
        {
            "attachments": {},
            "cell_type": "markdown",
            "metadata": {},
            "source": [
                "### Importing Libraries "
            ]
        },
        {
            "cell_type": "code",
            "execution_count": 2,
            "metadata": {},
            "outputs": [],
            "source": [
                "# importing libraries for web scrapping and API acess\n",
                "import requests\n",
                "from bs4 import BeautifulSoup\n",
                "\n",
                "# importing libraries for dataframes \n",
                "import pandas as pd\n",
                "import numpy as np\n",
                "\n",
                "# importing libraries for plots \n",
                "from plotnine import *\n",
                "\n",
                "# import nltk\n",
                "import nltk\n",
                "\n",
                "# importing libraries for ploting networks\n",
                "import networkx as nx\n",
                "import matplotlib.pyplot as plt\n",
                "\n",
                "# import libraries for plotnine\n",
                "from plotnine import *\n",
                "\n",
                "# import ggthemes\n",
                "from plotnine.themes import theme_bw\n",
                "import matplotlib.font_manager as fm"
            ]
        },
        {
            "attachments": {},
            "cell_type": "markdown",
            "metadata": {},
            "source": [
                "# Data"
            ]
        },
        {
            "attachments": {},
            "cell_type": "markdown",
            "metadata": {},
            "source": [
                "### Cleaing the Data"
            ]
        },
        {
            "cell_type": "code",
            "execution_count": 12,
            "metadata": {},
            "outputs": [],
            "source": [
                "# dataframe with all replies in the UK subreddit\n",
                "df_reddit_full = pd.read_csv('reddit_full.csv', usecols=['url', 'comment', 'date'])\n",
                "df_reddit_full['comment'].replace('[deleted]', None, inplace=True)\n",
                "\n",
                "# dataframe with only replies related to Brexit in the UK subreddit\n",
                "df_reddit_brexit = pd.read_csv('reddit_brexit.csv', usecols=['url', 'comment', 'date'])\n",
                "df_reddit_brexit['comment'].replace('[deleted]', None, inplace=True)\n",
                "\n",
                "# dataframe with news articles on Brexit\n",
                "df_news = pd.read_csv('news_text.csv', usecols=['title', 'text'])\n",
                "df_news = df_news.select_dtypes(include='object')\n",
                "df_news = df_news.dropna()\n",
                "df_news = df_news[~df_news['text'].str.contains('Sign up')]\n",
                "df_news = df_news[~df_news['text'].str.contains('trial')]"
            ]
        },
        {
            "attachments": {},
            "cell_type": "markdown",
            "metadata": {},
            "source": [
                "# Basic Text Complexity Analysis with NLTK"
            ]
        },
        {
            "attachments": {},
            "cell_type": "markdown",
            "metadata": {},
            "source": [
                "### Using Flesch Reading Ease Score "
            ]
        },
        {
            "cell_type": "code",
            "execution_count": 6,
            "metadata": {},
            "outputs": [],
            "source": [
                "# function that calculates the reading ease for each text\n",
                "def calculate_reading_ease(text):\n",
                "    try:\n",
                "        sentences = nltk.sent_tokenize(text)\n",
                "        words = nltk.word_tokenize(text)\n",
                "        num_sentences = len(sentences)\n",
                "        num_words = len(words)\n",
                "        num_syllables = 0\n",
                "    \n",
                "        for word in words:\n",
                "            num_syllables += syllable_count(word)\n",
                "    \n",
                "        # calculate the Flesch Reading Ease score\n",
                "        reading_ease = 206.835 - 1.015 * (num_words / num_sentences) - 84.6 * (num_syllables / num_words)\n",
                "        return reading_ease\n",
                "    except:\n",
                "        return 0\n",
                "\n",
                "# supporting function for the reading ease calculation\n",
                "def syllable_count(word):\n",
                "    word = word.lower()\n",
                "    if word.endswith((\"es\", \"ed\")) and not word.endswith((\"aes\", \"ees\", \"oes\")):\n",
                "        word = word[:-2]\n",
                "    count = 0\n",
                "    vowels = \"aeiouy\"\n",
                "    prev_char_vowel = False\n",
                "    for char in word:\n",
                "        if char in vowels and not prev_char_vowel:\n",
                "            count += 1\n",
                "        prev_char_vowel = char in vowels\n",
                "    if word.endswith(\"e\"):\n",
                "        count -= 1\n",
                "    if count == 0:\n",
                "        count = 1\n",
                "    return count"
            ]
        },
        {
            "cell_type": "code",
            "execution_count": 14,
            "metadata": {},
            "outputs": [],
            "source": [
                "# getting complexity score for each dataframe\n",
                "df_reddit_full['score'] = df_reddit_full['comment'].apply(calculate_reading_ease)\n",
                "df_reddit_brexit['score'] = df_reddit_brexit['comment'].apply(calculate_reading_ease)\n",
                "df_news['score'] = df_news['text'].apply(calculate_reading_ease)"
            ]
        },
        {
            "attachments": {},
            "cell_type": "markdown",
            "metadata": {},
            "source": [
                "### Displaying Results"
            ]
        },
        {
            "cell_type": "code",
            "execution_count": 16,
            "metadata": {},
            "outputs": [],
            "source": [
                "reddit_full_avg = df_reddit_full['score'].mean()\n",
                "reddit_brexit_avg = df_reddit_brexit['score'].mean()\n",
                "new_avg = df_news['score'].mean()"
            ]
        },
        {
            "cell_type": "code",
            "execution_count": 25,
            "metadata": {},
            "outputs": [
                {
                    "data": {
                        "image/png": "[encoded data removed]",
                        "text/plain": [
                            "<Figure size 640x480 with 1 Axes>"
                        ]
                    },
                    "metadata": {},
                    "output_type": "display_data"
                },
                {
                    "data": {
                        "text/plain": [
                            "<ggplot: (8787932377519)>"
                        ]
                    },
                    "execution_count": 25,
                    "metadata": {},
                    "output_type": "execute_result"
                }
            ],
            "source": [
                "data = {'Name': ['All Reddit Comments', 'Brexit Reddit Comments', 'News Articles'],\n",
                "        'Averages': [reddit_full_avg, reddit_brexit_avg, new_avg]}\n",
                "df = pd.DataFrame(data)\n",
                "\n",
                "plot = (\n",
                "    ggplot(df, aes(x='Name', y='Averages')) +\n",
                "    geom_bar(stat='identity', fill = '#d62728') +\n",
                "    ggtitle('Average Text Complexity of Content Across Three Sources') +\n",
                "    labs(x='', y='Average Text Complexity') +\n",
                "    theme(figure_size=(8, 4)) +\n",
                "    theme_538()\n",
                "    )\n",
                "\n",
                "plot"
            ]
        },
        {
            "cell_type": "code",
            "execution_count": null,
            "metadata": {},
            "outputs": [],
            "source": []
        }
    ],
    "metadata": {
        "kernelspec": {
            "display_name": "base",
            "language": "python",
            "name": "python3"
        },
        "language_info": {
            "codemirror_mode": {
                "name": "ipython",
                "version": 3
            },
            "file_extension": ".py",
            "mimetype": "text/x-python",
            "name": "python",
            "nbconvert_exporter": "python",
            "pygments_lexer": "ipython3",
            "version": "3.9.13"
        },
        "orig_nbformat": 4
    },
    "nbformat": 4,
    "nbformat_minor": 2
}
